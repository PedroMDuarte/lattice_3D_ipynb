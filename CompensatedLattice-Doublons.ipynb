{
 "metadata": {
  "name": "CompensatedLattice-Doublons"
 },
 "nbformat": 3,
 "nbformat_minor": 0,
 "worksheets": [
  {
   "cells": [
    {
     "cell_type": "code",
     "collapsed": false,
     "input": [
      "from compensated import *"
     ],
     "language": "python",
     "metadata": {},
     "outputs": [],
     "prompt_number": 1
    },
    {
     "cell_type": "markdown",
     "metadata": {},
     "source": [
      "### COMPENSATED LATTICE\n",
      "### Calculate doublon fraction for various entropies as a function of scattering length\n",
      "\n",
      "We have the phase diagram data as a function of temperature, so for each scattering length one needs to specify a temperature that will keep the entropy constant, this is what we do below"
     ]
    },
    {
     "cell_type": "code",
     "collapsed": false,
     "input": [
      "import os\n",
      "\n",
      "def fname(IR,GR,Na,Ti,sub,aS,ext):\n",
      "    fpath = ('Ut_Doublons/{0:.2f}_{1:.2f}_{2:.1e}/T{3:02d}/'.format(IR,GR,Na,Ti) + sub + '_%04da0'%aS).replace('.','p') + ext\n",
      "    dpath = os.path.dirname(fpath)\n",
      "    if not os.path.exists(dpath):\n",
      "        os.makedirs(dpath)\n",
      "    return fpath\n",
      "\n",
      "def tname(IR,GR,Na,Ti):\n",
      "    return os.path.split(os.path.dirname( fname(IR,GR,Na,Ti,'',0.,'')))[0] + '/T%02d_PhaseDiagram.dat'%Ti\n",
      "\n",
      "def pname(IR,GR,Na):\n",
      "    return os.path.split(os.path.dirname( fname(IR,GR,Na,0,'',0.,'')))[0]\n",
      "\n",
      "print fname(7.0, 3.85, 3.5e5, 2,'COL',80.,'.png')\n",
      "print tname(7.0, 3.85, 3.5e5, 2)\n",
      "print pname(7.0, 3.85, 3.5e5)\n",
      "\n",
      "import glob\n",
      "import re\n",
      "def geti(datf):\n",
      "    Ti =  re.search(r'T[0-9]{2}_',datf).group()\n",
      "    return int(re.search(r'[0-9]{2}',Ti).group())"
     ],
     "language": "python",
     "metadata": {},
     "outputs": [
      {
       "output_type": "stream",
       "stream": "stdout",
       "text": [
        "Ut_Doublons/7p00_3p85_3p5e+05/T02/COL_0080a0.png\n",
        "Ut_Doublons/7p00_3p85_3p5e+05/T02_PhaseDiagram.dat\n",
        "Ut_Doublons/7p00_3p85_3p5e+05\n"
       ]
      }
     ],
     "prompt_number": 2
    },
    {
     "cell_type": "code",
     "collapsed": false,
     "input": [
      "scattlen = np.linspace( 80., 1200., 12)\n",
      "temps00 = [ 1.8, 1.7, 1.6, 1.6, 1.6, 1.6, 1.6, 1.6, 1.6, 1.6, 1.6, 1.6]\n",
      "temps01 = [ 2.2, 2.1, 2.0, 2.0, 2.0, 2.0, 2.0, 2.0, 2.0, 2.0, 2.0, 2.0]\n",
      "temps02 = [ 2.6, 2.5, 2.4, 2.4, 2.4, 2.4, 2.4, 2.4, 2.4, 2.4, 2.4, 2.4]\n",
      "temps03 = [ 3.4, 3.3, 3.2, 3.2, 3.2, 3.2, 3.2, 3.2, 3.2, 3.2, 3.2, 3.2]\n",
      "\n",
      "#temps = [temps00, temps01, temps02, temps03] \n",
      "temps = [temps00]\n",
      "IR = 7.0\n",
      "GR = 3.85 \n",
      "Na = 3.5e5\n",
      "\n",
      "#for Ti in range(len(temps)):\n",
      "for Ti in range(1):\n",
      "    doccComp = []\n",
      "    for i,a in enumerate(scattlen):\n",
      "        print a, \" \",\n",
      "        latt3d = simpleCubic( allIR=IR, allGR=GR, Natoms=Na, a_s=a, Temperature=temps[Ti][i])\n",
      "        \n",
      "        figCol = latt3d.column( [\"density\",\"doublons\",\"entropy\"] );\n",
      "        fig111 = latt3d.plot3Line(func=latt3d.Bands,  lines='111');\n",
      "    \n",
      "        figCol.savefig(fname(IR,GR,Na,Ti,'COL',a,'.png'), dpi=200)\n",
      "        fig111.savefig(fname(IR,GR,Na,Ti,'111',a,'.png'), dpi=200)\n",
      "        \n",
      "        plt.close(figCol)\n",
      "        plt.close(fig111)\n",
      "        \n",
      "        doccComp.append( latt3d.getNumberD()/latt3d.Number )\n",
      "        \n",
      "    fraction = 1-np.array(doccComp) \n",
      "    np.savetxt(tname(IR,GR,Na,Ti), np.column_stack((scattlen, fraction)) )\n"
     ],
     "language": "python",
     "metadata": {},
     "outputs": [
      {
       "output_type": "stream",
       "stream": "stdout",
       "text": [
        "80.0   "
       ]
      },
      {
       "output_type": "stream",
       "stream": "stdout",
       "text": [
        "181.818181818   "
       ]
      },
      {
       "output_type": "stream",
       "stream": "stdout",
       "text": [
        "283.636363636   "
       ]
      },
      {
       "output_type": "stream",
       "stream": "stdout",
       "text": [
        "385.454545455   "
       ]
      },
      {
       "output_type": "stream",
       "stream": "stdout",
       "text": [
        "487.272727273   "
       ]
      },
      {
       "output_type": "stream",
       "stream": "stdout",
       "text": [
        "589.090909091   "
       ]
      },
      {
       "output_type": "stream",
       "stream": "stdout",
       "text": [
        "690.909090909   "
       ]
      },
      {
       "output_type": "stream",
       "stream": "stdout",
       "text": [
        "792.727272727   "
       ]
      },
      {
       "output_type": "stream",
       "stream": "stdout",
       "text": [
        "894.545454545   "
       ]
      },
      {
       "output_type": "stream",
       "stream": "stdout",
       "text": [
        "996.363636364   "
       ]
      },
      {
       "output_type": "stream",
       "stream": "stdout",
       "text": [
        "1098.18181818   "
       ]
      },
      {
       "output_type": "stream",
       "stream": "stdout",
       "text": [
        "1200.0  \n"
       ]
      },
      {
       "output_type": "stream",
       "stream": "stderr",
       "text": [
        "/usr/lib/pymodules/python2.7/matplotlib/gridspec.py:298: UserWarning: This figure includes Axes that are not compatible with tight_layout, so its results might be incorrect.\n",
        "  warnings.warn(\"This figure includes Axes that are not \"\n"
       ]
      }
     ],
     "prompt_number": 3
    },
    {
     "cell_type": "markdown",
     "metadata": {},
     "source": [
      "With the data calculated above we can make the corresponding plot"
     ]
    },
    {
     "cell_type": "code",
     "collapsed": false,
     "input": [
      "IR = 7.0\n",
      "GR = 3.85 \n",
      "Na = 3.5e5\n",
      "\n",
      "fig = plt.figure(figsize=(6,4))\n",
      "gs = matplotlib.gridspec.GridSpec( 1,1, wspace=0.2)\n",
      "ax0 = fig.add_subplot( gs[0,0])\n",
      "\n",
      "labelstrs = [ '$S/N=1.97$', '$S/N=2.32$', '$S/N=2.59$', '$S/N=2.79$']\n",
      "\n",
      "for datf in glob.glob( pname(IR,GR,Na) + '/*.dat' ):\n",
      "    dat = np.loadtxt(datf)\n",
      "    scattlen = dat[:,0]\n",
      "    fraction = dat[:,1] \n",
      "    ax0.plot( scattlen, 1-fraction, lw=4, label=labelstrs[geti(datf)])\n",
      "\n",
      "\n",
      "ax0.set_xlabel(\"Scattering length ($a_{0}$)\",fontsize=14)\n",
      "ax0.set_ylabel(\"$D$\", fontsize=16,rotation=0)\n",
      "ax0.grid()\n",
      "ax0.set_ylim(0., 1.0)\n",
      "ax0.set_xlim(0., 1200.)\n",
      "    \n",
      "ax0.legend( bbox_to_anchor=(1.03,1.00), \\\n",
      "            loc='upper left', numpoints=1, \\\n",
      "             prop={'size':12}, handlelength=1.1, handletextpad=0.5 )\n",
      "\n",
      "gs.tight_layout(fig, rect=[0.,0.,0.8,1.0])\n",
      "fig.savefig(pname(IR,GR,Na)+'/Fraction.png',dpi=240)\n",
      "fig.savefig(pname(IR,GR,Na)+'/Fraction.pdf')\n"
     ],
     "language": "python",
     "metadata": {},
     "outputs": [],
     "prompt_number": 4
    },
    {
     "cell_type": "markdown",
     "metadata": {},
     "source": [
      "### UNCOMPENSATED LATTICE\n",
      "### Calculate doublon fraction for various entropies as a function of scattering length\n",
      "\n",
      "### N = 7e4"
     ]
    },
    {
     "cell_type": "code",
     "collapsed": false,
     "input": [
      "scattlen = np.linspace( 80., 1200., 12)\n",
      "temps00 = [ 4.0, 3.6, 3.2, 2.8, 2.6, 2.2, 2.2, 2.0, 1.8, 1.8, 1.8, 1.8]\n",
      "temps01 = [ 5.2, 4.8, 4.4, 4.0, 3.8, 3.4, 3.4, 3.2, 3.0, 3.0, 3.0, 3.0]\n",
      "temps02 = [ 7.2, 7.0, 7.0, 7.0, 6.8, 6.8, 6.8, 6.8, 6.8, 6.8, 6.8, 6.8]\n",
      "temps03 = [ 15.6, 15.6, 15.6, 14.8, 14.8, 14.0, 14.0, 14.0, 14.0, 14.0, 14.0, 14.0]\n",
      "\n",
      "temps = [temps00, temps01, temps02, temps03]\n",
      "IR = 7.0\n",
      "GR = 0.0 \n",
      "Na = 7e4\n",
      "\n",
      "for Ti in range(len(temps)):\n",
      "    if temps[Ti] is not None:\n",
      "        print temps[Ti]\n",
      "        doccComp = []\n",
      "        for i,a in enumerate(scattlen):\n",
      "            print a, \" \",\n",
      "            latt3d = simpleCubic( allIR=IR, allGR=GR, Natoms=Na, a_s=a, Temperature=temps[Ti][i])\n",
      "            \n",
      "            figCol = latt3d.column( [\"density\",\"doublons\",\"entropy\",\"moment\"] );\n",
      "            fig111 = latt3d.plot3Line(func=latt3d.Bands,  lines='111');\n",
      "        \n",
      "            figCol.savefig(fname(IR,GR,Na,Ti,'COL',a,'.png'), dpi=200)\n",
      "            fig111.savefig(fname(IR,GR,Na,Ti,'111',a,'.png'), dpi=200)\n",
      "            \n",
      "            plt.close(figCol)\n",
      "            plt.close(fig111)\n",
      "            \n",
      "            doccComp.append( latt3d.getNumberD()/latt3d.Number )\n",
      "            \n",
      "        fraction = 1-np.array(doccComp) \n",
      "        np.savetxt(tname(IR,GR,Na,Ti), np.column_stack((scattlen, fraction)) )"
     ],
     "language": "python",
     "metadata": {},
     "outputs": [
      {
       "output_type": "stream",
       "stream": "stdout",
       "text": [
        "[4.0, 3.6, 3.2, 2.8, 2.6, 2.2, 2.2, 2.0, 1.8, 1.8, 1.8, 1.8]\n",
        "80.0   "
       ]
      },
      {
       "output_type": "stream",
       "stream": "stdout",
       "text": [
        "181.818181818   "
       ]
      },
      {
       "output_type": "stream",
       "stream": "stdout",
       "text": [
        "283.636363636   "
       ]
      },
      {
       "output_type": "stream",
       "stream": "stdout",
       "text": [
        "385.454545455   "
       ]
      },
      {
       "output_type": "stream",
       "stream": "stdout",
       "text": [
        "487.272727273   "
       ]
      },
      {
       "output_type": "stream",
       "stream": "stdout",
       "text": [
        "589.090909091   "
       ]
      },
      {
       "output_type": "stream",
       "stream": "stdout",
       "text": [
        "690.909090909   "
       ]
      },
      {
       "output_type": "stream",
       "stream": "stdout",
       "text": [
        "792.727272727   "
       ]
      },
      {
       "output_type": "stream",
       "stream": "stdout",
       "text": [
        "894.545454545   "
       ]
      },
      {
       "output_type": "stream",
       "stream": "stdout",
       "text": [
        "996.363636364   "
       ]
      },
      {
       "output_type": "stream",
       "stream": "stdout",
       "text": [
        "1098.18181818   "
       ]
      },
      {
       "output_type": "stream",
       "stream": "stdout",
       "text": [
        "1200.0   "
       ]
      },
      {
       "output_type": "stream",
       "stream": "stdout",
       "text": [
        "[5.2, 4.8, 4.4, 4.0, 3.8, 3.4, 3.4, 3.2, 3.0, 3.0, 3.0, 3.0]\n",
        "80.0   "
       ]
      },
      {
       "output_type": "stream",
       "stream": "stdout",
       "text": [
        "181.818181818   "
       ]
      },
      {
       "output_type": "stream",
       "stream": "stdout",
       "text": [
        "283.636363636   "
       ]
      },
      {
       "output_type": "stream",
       "stream": "stdout",
       "text": [
        "385.454545455   "
       ]
      },
      {
       "output_type": "stream",
       "stream": "stdout",
       "text": [
        "487.272727273   "
       ]
      },
      {
       "output_type": "stream",
       "stream": "stdout",
       "text": [
        "589.090909091   "
       ]
      },
      {
       "output_type": "stream",
       "stream": "stdout",
       "text": [
        "690.909090909   "
       ]
      },
      {
       "output_type": "stream",
       "stream": "stdout",
       "text": [
        "792.727272727   "
       ]
      },
      {
       "output_type": "stream",
       "stream": "stdout",
       "text": [
        "894.545454545   "
       ]
      },
      {
       "output_type": "stream",
       "stream": "stdout",
       "text": [
        "996.363636364   "
       ]
      },
      {
       "output_type": "stream",
       "stream": "stdout",
       "text": [
        "1098.18181818   "
       ]
      },
      {
       "output_type": "stream",
       "stream": "stdout",
       "text": [
        "1200.0   "
       ]
      },
      {
       "output_type": "stream",
       "stream": "stdout",
       "text": [
        "[7.2, 7.0, 7.0, 7.0, 6.8, 6.8, 6.8, 6.8, 6.8, 6.8, 6.8, 6.8]\n",
        "80.0   "
       ]
      },
      {
       "output_type": "stream",
       "stream": "stdout",
       "text": [
        "181.818181818   "
       ]
      },
      {
       "output_type": "stream",
       "stream": "stdout",
       "text": [
        "283.636363636   "
       ]
      },
      {
       "output_type": "stream",
       "stream": "stdout",
       "text": [
        "385.454545455   "
       ]
      },
      {
       "output_type": "stream",
       "stream": "stdout",
       "text": [
        "487.272727273   "
       ]
      },
      {
       "output_type": "stream",
       "stream": "stdout",
       "text": [
        "589.090909091   "
       ]
      },
      {
       "output_type": "stream",
       "stream": "stdout",
       "text": [
        "690.909090909   "
       ]
      },
      {
       "output_type": "stream",
       "stream": "stdout",
       "text": [
        "792.727272727   "
       ]
      },
      {
       "output_type": "stream",
       "stream": "stdout",
       "text": [
        "894.545454545   "
       ]
      },
      {
       "output_type": "stream",
       "stream": "stdout",
       "text": [
        "996.363636364   "
       ]
      },
      {
       "output_type": "stream",
       "stream": "stdout",
       "text": [
        "1098.18181818   "
       ]
      },
      {
       "output_type": "stream",
       "stream": "stdout",
       "text": [
        "1200.0   "
       ]
      },
      {
       "output_type": "stream",
       "stream": "stdout",
       "text": [
        "[15.6, 15.6, 15.6, 14.8, 14.8, 14.0, 14.0, 14.0, 14.0, 14.0, 14.0, 14.0]\n",
        "80.0   "
       ]
      },
      {
       "output_type": "stream",
       "stream": "stdout",
       "text": [
        "181.818181818   "
       ]
      },
      {
       "output_type": "stream",
       "stream": "stdout",
       "text": [
        "283.636363636   "
       ]
      },
      {
       "output_type": "stream",
       "stream": "stdout",
       "text": [
        "385.454545455   "
       ]
      },
      {
       "output_type": "stream",
       "stream": "stdout",
       "text": [
        "487.272727273   "
       ]
      },
      {
       "output_type": "stream",
       "stream": "stdout",
       "text": [
        "589.090909091   "
       ]
      },
      {
       "output_type": "stream",
       "stream": "stdout",
       "text": [
        "690.909090909   "
       ]
      },
      {
       "output_type": "stream",
       "stream": "stdout",
       "text": [
        "792.727272727   "
       ]
      },
      {
       "output_type": "stream",
       "stream": "stdout",
       "text": [
        "894.545454545   "
       ]
      },
      {
       "output_type": "stream",
       "stream": "stdout",
       "text": [
        "996.363636364   "
       ]
      },
      {
       "output_type": "stream",
       "stream": "stdout",
       "text": [
        "1098.18181818   "
       ]
      },
      {
       "output_type": "stream",
       "stream": "stdout",
       "text": [
        "1200.0  \n"
       ]
      },
      {
       "output_type": "stream",
       "stream": "stderr",
       "text": [
        "/usr/lib/pymodules/python2.7/matplotlib/gridspec.py:298: UserWarning: This figure includes Axes that are not compatible with tight_layout, so its results might be incorrect.\n",
        "  warnings.warn(\"This figure includes Axes that are not \"\n"
       ]
      }
     ],
     "prompt_number": 3
    },
    {
     "cell_type": "code",
     "collapsed": false,
     "input": [
      "IR = 7.0\n",
      "GR = 0.0 \n",
      "Na = 7e4\n",
      "\n",
      "fig = plt.figure(figsize=(6,4))\n",
      "gs = matplotlib.gridspec.GridSpec( 1,1, wspace=0.2)\n",
      "ax0 = fig.add_subplot( gs[0,0])\n",
      "\n",
      "labelstrs = [ '$S/N=0.9$', '$S/N=1.1$', '$S/N=2.0$', '$S/N=2.6$']\n",
      "\n",
      "for datf in sorted(glob.glob( pname(IR,GR,Na) + '/*.dat' )):\n",
      "    dat = np.loadtxt(datf)\n",
      "    scattlen = dat[:,0]\n",
      "    fraction = dat[:,1] \n",
      "    ax0.plot( scattlen, 1-fraction, lw=4, label=labelstrs[geti(datf)]+'\\n$N=%.1e$'%Na)\n",
      "\n",
      "\n",
      "ax0.set_xlabel(\"Scattering length ($a_{0}$)\",fontsize=14)\n",
      "ax0.set_ylabel(\"$D$\", fontsize=16,rotation=0)\n",
      "ax0.grid()\n",
      "ax0.set_ylim(0., 1.0)\n",
      "ax0.set_xlim(0., 1200.)\n",
      "\n",
      "ax0.legend( bbox_to_anchor=(1.03,1.00), \\\n",
      "            loc='upper left', numpoints=1, \\\n",
      "             prop={'size':12}, handlelength=1.1, handletextpad=0.5 )\n",
      "\n",
      "gs.tight_layout(fig, rect=[0.,0.,0.8,1.0])\n",
      "fig.savefig(pname(IR,GR,Na)+'/Fraction.png',dpi=240)\n",
      "fig.savefig(pname(IR,GR,Na)+'/Fraction.pdf')\n"
     ],
     "language": "python",
     "metadata": {},
     "outputs": [],
     "prompt_number": 13
    },
    {
     "cell_type": "markdown",
     "metadata": {},
     "source": [
      "### Uncompensated N=5e4"
     ]
    },
    {
     "cell_type": "code",
     "collapsed": false,
     "input": [
      "scattlen = np.linspace( 80., 1200., 12)\n",
      "temps00 = [ 7.2, 7.0, 7.0, 7.0, 6.8, 6.8, 6.8, 6.8, 6.8, 6.8, 6.8, 6.8]\n",
      "temps01 = [ 5.2, 4.8, 4.4, 4.0, 3.8, 3.4, 3.4, 3.2, 3.0, 3.0, 3.0, 3.0]\n",
      "temps02 = [ 4.0, 3.6, 3.2, 2.8, 2.6, 2.2, 2.2, 2.0, 1.8, 1.8, 1.8, 1.8]\n",
      "\n",
      "temps = [temps00, temps01, None]\n",
      "IR = 7.0\n",
      "GR = 0.0 \n",
      "Na = 5e4\n",
      "\n",
      "for Ti in range(len(temps)):\n",
      "    if temps[Ti] is not None:\n",
      "        print temps[Ti]\n",
      "        doccComp = []\n",
      "        for i,a in enumerate(scattlen):\n",
      "            print a, \" \",\n",
      "            latt3d = simpleCubic( allIR=IR, allGR=GR, Natoms=Na, a_s=a, Temperature=temps[Ti][i])\n",
      "            \n",
      "            figCol = latt3d.column( [\"density\",\"doublons\",\"entropy\",\"moment\"] );\n",
      "            fig111 = latt3d.plot3Line(func=latt3d.Bands,  lines='111');\n",
      "        \n",
      "            figCol.savefig(fname(IR,GR,Na,Ti,'COL',a,'.png'), dpi=200)\n",
      "            fig111.savefig(fname(IR,GR,Na,Ti,'111',a,'.png'), dpi=200)\n",
      "            \n",
      "            plt.close(figCol)\n",
      "            plt.close(fig111)\n",
      "            \n",
      "            doccComp.append( latt3d.getNumberD()/latt3d.Number )\n",
      "            \n",
      "        fraction = 1-np.array(doccComp) \n",
      "        np.savetxt(tname(IR,GR,Na,Ti), np.column_stack((scattlen, fraction)) )"
     ],
     "language": "python",
     "metadata": {},
     "outputs": [
      {
       "output_type": "stream",
       "stream": "stdout",
       "text": [
        "[7.2, 7.0, 7.0, 7.0, 6.8, 6.8, 6.8, 6.8, 6.8, 6.8, 6.8, 6.8]\n",
        "80.0   "
       ]
      },
      {
       "output_type": "stream",
       "stream": "stdout",
       "text": [
        "181.818181818   "
       ]
      },
      {
       "output_type": "stream",
       "stream": "stdout",
       "text": [
        "283.636363636   "
       ]
      },
      {
       "output_type": "stream",
       "stream": "stdout",
       "text": [
        "385.454545455   "
       ]
      },
      {
       "output_type": "stream",
       "stream": "stdout",
       "text": [
        "487.272727273   "
       ]
      },
      {
       "output_type": "stream",
       "stream": "stdout",
       "text": [
        "589.090909091   "
       ]
      },
      {
       "output_type": "stream",
       "stream": "stdout",
       "text": [
        "690.909090909   "
       ]
      },
      {
       "output_type": "stream",
       "stream": "stdout",
       "text": [
        "792.727272727   "
       ]
      },
      {
       "output_type": "stream",
       "stream": "stdout",
       "text": [
        "894.545454545   "
       ]
      },
      {
       "output_type": "stream",
       "stream": "stdout",
       "text": [
        "996.363636364   "
       ]
      },
      {
       "output_type": "stream",
       "stream": "stdout",
       "text": [
        "1098.18181818   "
       ]
      },
      {
       "output_type": "stream",
       "stream": "stdout",
       "text": [
        "1200.0   "
       ]
      },
      {
       "output_type": "stream",
       "stream": "stdout",
       "text": [
        "[5.2, 4.8, 4.4, 4.0, 3.8, 3.4, 3.4, 3.2, 3.0, 3.0, 3.0, 3.0]\n",
        "80.0   "
       ]
      },
      {
       "output_type": "stream",
       "stream": "stdout",
       "text": [
        "181.818181818   "
       ]
      },
      {
       "output_type": "stream",
       "stream": "stdout",
       "text": [
        "283.636363636   "
       ]
      },
      {
       "output_type": "stream",
       "stream": "stdout",
       "text": [
        "385.454545455   "
       ]
      },
      {
       "output_type": "stream",
       "stream": "stdout",
       "text": [
        "487.272727273   "
       ]
      },
      {
       "output_type": "stream",
       "stream": "stdout",
       "text": [
        "589.090909091   "
       ]
      },
      {
       "output_type": "stream",
       "stream": "stdout",
       "text": [
        "690.909090909   "
       ]
      },
      {
       "output_type": "stream",
       "stream": "stdout",
       "text": [
        "792.727272727   "
       ]
      },
      {
       "output_type": "stream",
       "stream": "stdout",
       "text": [
        "894.545454545   "
       ]
      },
      {
       "output_type": "stream",
       "stream": "stdout",
       "text": [
        "996.363636364   "
       ]
      },
      {
       "output_type": "stream",
       "stream": "stdout",
       "text": [
        "1098.18181818   "
       ]
      },
      {
       "output_type": "stream",
       "stream": "stdout",
       "text": [
        "1200.0  \n"
       ]
      }
     ],
     "prompt_number": 31
    },
    {
     "cell_type": "code",
     "collapsed": false,
     "input": [
      "IR = 7.0\n",
      "GR = 0.0 \n",
      "Na = 5e4\n",
      "\n",
      "fig = plt.figure(figsize=(6,4))\n",
      "gs = matplotlib.gridspec.GridSpec( 1,1, wspace=0.2)\n",
      "ax0 = fig.add_subplot( gs[0,0])\n",
      "\n",
      "labelstrs = [ '$S/N=2.3$', '$S/N=1.2$', '$S/N=1.0$']\n",
      "\n",
      "for datf in sorted(glob.glob( pname(IR,GR,Na) + '/*.dat' )):\n",
      "    dat = np.loadtxt(datf)\n",
      "    scattlen = dat[:,0]\n",
      "    fraction = dat[:,1] \n",
      "    ax0.plot( scattlen, 1-fraction, lw=4, label=labelstrs[geti(datf)]+'\\n$N=%.1e$'%Na)\n",
      "\n",
      "\n",
      "ax0.set_xlabel(\"Scattering length ($a_{0}$)\",fontsize=14)\n",
      "ax0.set_ylabel(\"$D$\", fontsize=16,rotation=0)\n",
      "ax0.grid()\n",
      "ax0.set_ylim(0., 1.0)\n",
      "ax0.set_xlim(0., 1200.)\n",
      "\n",
      "ax0.legend( bbox_to_anchor=(1.03,1.00), \\\n",
      "            loc='upper left', numpoints=1, \\\n",
      "             prop={'size':12}, handlelength=1.1, handletextpad=0.5 )\n",
      "\n",
      "gs.tight_layout(fig, rect=[0.,0.,0.8,1.0])\n",
      "fig.savefig(pname(IR,GR,Na)+'/Fraction.png',dpi=240)\n",
      "fig.savefig(pname(IR,GR,Na)+'/Fraction.pdf')\n"
     ],
     "language": "python",
     "metadata": {},
     "outputs": [],
     "prompt_number": 33
    },
    {
     "cell_type": "markdown",
     "metadata": {},
     "source": [
      "### Uncompensated N=3e4"
     ]
    },
    {
     "cell_type": "code",
     "collapsed": false,
     "input": [
      "scattlen = np.linspace( 80., 1200., 12)\n",
      "temps00 = [ 7.2, 7.0, 7.0, 7.0, 6.8, 6.8, 6.8, 6.8, 6.8, 6.8, 6.8, 6.8]\n",
      "temps01 = [ 5.2, 4.8, 4.4, 4.0, 3.8, 3.4, 3.4, 3.2, 3.0, 3.0, 3.0, 3.0]\n",
      "temps02 = [ 4.0, 3.6, 3.2, 2.8, 2.6, 2.2, 2.2, 2.0, 1.8, 1.8, 1.8, 1.8]\n",
      "\n",
      "temps = [temps00, temps01, None]\n",
      "IR = 7.0\n",
      "GR = 0.0 \n",
      "Na = 3e4\n",
      "\n",
      "for Ti in range(len(temps)):\n",
      "    if temps[Ti] is not None:\n",
      "        print temps[Ti]\n",
      "        doccComp = []\n",
      "        for i,a in enumerate(scattlen):\n",
      "            print a, \" \",\n",
      "            latt3d = simpleCubic( allIR=IR, allGR=GR, Natoms=Na, a_s=a, Temperature=temps[Ti][i])\n",
      "            \n",
      "            figCol = latt3d.column( [\"density\",\"doublons\",\"entropy\",\"moment\"] );\n",
      "            fig111 = latt3d.plot3Line(func=latt3d.Bands,  lines='111');\n",
      "        \n",
      "            figCol.savefig(fname(IR,GR,Na,Ti,'COL',a,'.png'), dpi=200)\n",
      "            fig111.savefig(fname(IR,GR,Na,Ti,'111',a,'.png'), dpi=200)\n",
      "            \n",
      "            plt.close(figCol)\n",
      "            plt.close(fig111)\n",
      "            \n",
      "            doccComp.append( latt3d.getNumberD()/latt3d.Number )\n",
      "            \n",
      "        fraction = 1-np.array(doccComp) \n",
      "        np.savetxt(tname(IR,GR,Na,Ti), np.column_stack((scattlen, fraction)) )"
     ],
     "language": "python",
     "metadata": {},
     "outputs": [
      {
       "output_type": "stream",
       "stream": "stdout",
       "text": [
        "[7.2, 7.0, 7.0, 7.0, 6.8, 6.8, 6.8, 6.8, 6.8, 6.8, 6.8, 6.8]\n",
        "80.0   "
       ]
      },
      {
       "output_type": "stream",
       "stream": "stdout",
       "text": [
        "181.818181818   "
       ]
      },
      {
       "output_type": "stream",
       "stream": "stdout",
       "text": [
        "283.636363636   "
       ]
      },
      {
       "output_type": "stream",
       "stream": "stdout",
       "text": [
        "385.454545455   "
       ]
      },
      {
       "output_type": "stream",
       "stream": "stdout",
       "text": [
        "487.272727273   "
       ]
      },
      {
       "output_type": "stream",
       "stream": "stdout",
       "text": [
        "589.090909091   "
       ]
      },
      {
       "output_type": "stream",
       "stream": "stdout",
       "text": [
        "690.909090909   "
       ]
      },
      {
       "output_type": "stream",
       "stream": "stdout",
       "text": [
        "792.727272727   "
       ]
      },
      {
       "output_type": "stream",
       "stream": "stdout",
       "text": [
        "894.545454545   "
       ]
      },
      {
       "output_type": "stream",
       "stream": "stdout",
       "text": [
        "996.363636364   "
       ]
      },
      {
       "output_type": "stream",
       "stream": "stdout",
       "text": [
        "1098.18181818   "
       ]
      },
      {
       "output_type": "stream",
       "stream": "stdout",
       "text": [
        "1200.0   "
       ]
      },
      {
       "output_type": "stream",
       "stream": "stdout",
       "text": [
        "[5.2, 4.8, 4.4, 4.0, 3.8, 3.4, 3.4, 3.2, 3.0, 3.0, 3.0, 3.0]\n",
        "80.0   "
       ]
      },
      {
       "output_type": "stream",
       "stream": "stdout",
       "text": [
        "181.818181818   "
       ]
      },
      {
       "output_type": "stream",
       "stream": "stdout",
       "text": [
        "283.636363636   "
       ]
      },
      {
       "output_type": "stream",
       "stream": "stdout",
       "text": [
        "385.454545455   "
       ]
      },
      {
       "output_type": "stream",
       "stream": "stdout",
       "text": [
        "487.272727273   "
       ]
      },
      {
       "output_type": "stream",
       "stream": "stdout",
       "text": [
        "589.090909091   "
       ]
      },
      {
       "output_type": "stream",
       "stream": "stdout",
       "text": [
        "690.909090909   "
       ]
      },
      {
       "output_type": "stream",
       "stream": "stdout",
       "text": [
        "792.727272727   "
       ]
      },
      {
       "output_type": "stream",
       "stream": "stdout",
       "text": [
        "894.545454545   "
       ]
      },
      {
       "output_type": "stream",
       "stream": "stdout",
       "text": [
        "996.363636364   "
       ]
      },
      {
       "output_type": "stream",
       "stream": "stdout",
       "text": [
        "1098.18181818   "
       ]
      },
      {
       "output_type": "stream",
       "stream": "stdout",
       "text": [
        "1200.0  \n"
       ]
      }
     ],
     "prompt_number": 34
    },
    {
     "cell_type": "code",
     "collapsed": false,
     "input": [
      "IR = 7.0\n",
      "GR = 0.0 \n",
      "Na = 3e4\n",
      "\n",
      "fig = plt.figure(figsize=(6,4))\n",
      "gs = matplotlib.gridspec.GridSpec( 1,1, wspace=0.2)\n",
      "ax0 = fig.add_subplot( gs[0,0])\n",
      "\n",
      "labelstrs = [ '$S/N=2.3$', '$S/N=1.2$', '$S/N=1.0$']\n",
      "\n",
      "for datf in sorted(glob.glob( pname(IR,GR,Na) + '/*.dat' )):\n",
      "    dat = np.loadtxt(datf)\n",
      "    scattlen = dat[:,0]\n",
      "    fraction = dat[:,1] \n",
      "    ax0.plot( scattlen, 1-fraction, lw=4, label=labelstrs[geti(datf)]+'\\n$N=%.1e$'%Na)\n",
      "\n",
      "\n",
      "ax0.set_xlabel(\"Scattering length ($a_{0}$)\",fontsize=14)\n",
      "ax0.set_ylabel(\"$D$\", fontsize=16,rotation=0)\n",
      "ax0.grid()\n",
      "ax0.set_ylim(0., 1.0)\n",
      "ax0.set_xlim(0., 1200.)\n",
      "\n",
      "ax0.legend( bbox_to_anchor=(1.03,1.00), \\\n",
      "            loc='upper left', numpoints=1, \\\n",
      "             prop={'size':12}, handlelength=1.1, handletextpad=0.5 )\n",
      "\n",
      "gs.tight_layout(fig, rect=[0.,0.,0.8,1.0])\n",
      "fig.savefig(pname(IR,GR,Na)+'/Fraction.png',dpi=240)\n",
      "fig.savefig(pname(IR,GR,Na)+'/Fraction.pdf')\n"
     ],
     "language": "python",
     "metadata": {},
     "outputs": [],
     "prompt_number": 35
    },
    {
     "cell_type": "markdown",
     "metadata": {},
     "source": [
      "### Uncompensated N=3e5"
     ]
    },
    {
     "cell_type": "code",
     "collapsed": false,
     "input": [
      "scattlen = np.linspace( 80., 1200., 12)\n",
      "temps00 = [ 7.2, 7.0, 7.0, 7.0, 6.8, 6.8, 6.8, 6.8, 6.8, 6.8, 6.8, 6.8]\n",
      "temps01 = [ 5.2, 4.8, 4.4, 4.0, 3.8, 3.4, 3.4, 3.2, 3.0, 3.0, 3.0, 3.0]\n",
      "temps02 = [ 4.0, 3.6, 3.2, 2.8, 2.6, 2.2, 2.2, 2.0, 1.8, 1.8, 1.8, 1.8]\n",
      "\n",
      "temps = [temps00, temps01, None]\n",
      "IR = 7.0\n",
      "GR = 0.0 \n",
      "Na = 3e5\n",
      "\n",
      "for Ti in range(len(temps)):\n",
      "    if temps[Ti] is not None:\n",
      "        print temps[Ti]\n",
      "        doccComp = []\n",
      "        for i,a in enumerate(scattlen):\n",
      "            print a, \" \",\n",
      "            latt3d = simpleCubic( allIR=IR, allGR=GR, Natoms=Na, a_s=a, Temperature=temps[Ti][i])\n",
      "            \n",
      "            figCol = latt3d.column( [\"density\",\"doublons\",\"entropy\",\"moment\"] );\n",
      "            fig111 = latt3d.plot3Line(func=latt3d.Bands,  lines='111');\n",
      "        \n",
      "            figCol.savefig(fname(IR,GR,Na,Ti,'COL',a,'.png'), dpi=200)\n",
      "            fig111.savefig(fname(IR,GR,Na,Ti,'111',a,'.png'), dpi=200)\n",
      "            \n",
      "            plt.close(figCol)\n",
      "            plt.close(fig111)\n",
      "            \n",
      "            doccComp.append( latt3d.getNumberD()/latt3d.Number )\n",
      "            \n",
      "        fraction = 1-np.array(doccComp) \n",
      "        np.savetxt(tname(IR,GR,Na,Ti), np.column_stack((scattlen, fraction)) )"
     ],
     "language": "python",
     "metadata": {},
     "outputs": [
      {
       "output_type": "stream",
       "stream": "stdout",
       "text": [
        "[7.2, 7.0, 7.0, 7.0, 6.8, 6.8, 6.8, 6.8, 6.8, 6.8, 6.8, 6.8]\n",
        "80.0   "
       ]
      },
      {
       "output_type": "stream",
       "stream": "stdout",
       "text": [
        "181.818181818   "
       ]
      },
      {
       "output_type": "stream",
       "stream": "stdout",
       "text": [
        "283.636363636   "
       ]
      },
      {
       "output_type": "stream",
       "stream": "stdout",
       "text": [
        "385.454545455   "
       ]
      },
      {
       "output_type": "stream",
       "stream": "stdout",
       "text": [
        "487.272727273   "
       ]
      },
      {
       "output_type": "stream",
       "stream": "stdout",
       "text": [
        "589.090909091   "
       ]
      },
      {
       "output_type": "stream",
       "stream": "stdout",
       "text": [
        "690.909090909   "
       ]
      },
      {
       "output_type": "stream",
       "stream": "stdout",
       "text": [
        "792.727272727   "
       ]
      },
      {
       "output_type": "stream",
       "stream": "stdout",
       "text": [
        "894.545454545   "
       ]
      },
      {
       "output_type": "stream",
       "stream": "stdout",
       "text": [
        "996.363636364   "
       ]
      },
      {
       "output_type": "stream",
       "stream": "stdout",
       "text": [
        "1098.18181818   "
       ]
      },
      {
       "output_type": "stream",
       "stream": "stdout",
       "text": [
        "1200.0   "
       ]
      },
      {
       "output_type": "stream",
       "stream": "stdout",
       "text": [
        "[5.2, 4.8, 4.4, 4.0, 3.8, 3.4, 3.4, 3.2, 3.0, 3.0, 3.0, 3.0]\n",
        "80.0   "
       ]
      },
      {
       "output_type": "stream",
       "stream": "stdout",
       "text": [
        "181.818181818   "
       ]
      },
      {
       "output_type": "stream",
       "stream": "stdout",
       "text": [
        "283.636363636   "
       ]
      },
      {
       "output_type": "stream",
       "stream": "stdout",
       "text": [
        "385.454545455   "
       ]
      },
      {
       "output_type": "stream",
       "stream": "stdout",
       "text": [
        "487.272727273   "
       ]
      },
      {
       "output_type": "stream",
       "stream": "stdout",
       "text": [
        "589.090909091   "
       ]
      },
      {
       "output_type": "stream",
       "stream": "stdout",
       "text": [
        "690.909090909   "
       ]
      },
      {
       "output_type": "stream",
       "stream": "stdout",
       "text": [
        "792.727272727   "
       ]
      },
      {
       "output_type": "stream",
       "stream": "stdout",
       "text": [
        "894.545454545   "
       ]
      },
      {
       "output_type": "stream",
       "stream": "stdout",
       "text": [
        "996.363636364   "
       ]
      },
      {
       "output_type": "stream",
       "stream": "stdout",
       "text": [
        "1098.18181818   "
       ]
      },
      {
       "output_type": "stream",
       "stream": "stdout",
       "text": [
        "1200.0  \n"
       ]
      },
      {
       "output_type": "stream",
       "stream": "stderr",
       "text": [
        "/usr/lib/pymodules/python2.7/matplotlib/gridspec.py:298: UserWarning: This figure includes Axes that are not compatible with tight_layout, so its results might be incorrect.\n",
        "  warnings.warn(\"This figure includes Axes that are not \"\n"
       ]
      }
     ],
     "prompt_number": 3
    },
    {
     "cell_type": "code",
     "collapsed": false,
     "input": [
      "IR = 7.0\n",
      "GR = 0.0 \n",
      "Na = 3e5\n",
      "\n",
      "fig = plt.figure(figsize=(6,4))\n",
      "gs = matplotlib.gridspec.GridSpec( 1,1, wspace=0.2)\n",
      "ax0 = fig.add_subplot( gs[0,0])\n",
      "\n",
      "labelstrs = [ '$S/N=2.3$', '$S/N=1.2$', '$S/N=1.0$']\n",
      "\n",
      "for datf in sorted(glob.glob( pname(IR,GR,Na) + '/*.dat' )):\n",
      "    dat = np.loadtxt(datf)\n",
      "    scattlen = dat[:,0]\n",
      "    fraction = dat[:,1] \n",
      "    ax0.plot( scattlen, 1-fraction, lw=4, label=labelstrs[geti(datf)]+'\\n$N=%.1e$'%Na)\n",
      "\n",
      "\n",
      "ax0.set_xlabel(\"Scattering length ($a_{0}$)\",fontsize=14)\n",
      "ax0.set_ylabel(\"$D$\", fontsize=16,rotation=0)\n",
      "ax0.grid()\n",
      "ax0.set_ylim(0., 1.0)\n",
      "ax0.set_xlim(0., 1200.)\n",
      "\n",
      "ax0.legend( bbox_to_anchor=(1.03,1.00), \\\n",
      "            loc='upper left', numpoints=1, \\\n",
      "             prop={'size':12}, handlelength=1.1, handletextpad=0.5 )\n",
      "\n",
      "gs.tight_layout(fig, rect=[0.,0.,0.8,1.0])\n",
      "fig.savefig(pname(IR,GR,Na)+'/Fraction.png',dpi=240)\n",
      "fig.savefig(pname(IR,GR,Na)+'/Fraction.pdf')\n"
     ],
     "language": "python",
     "metadata": {},
     "outputs": [],
     "prompt_number": 4
    },
    {
     "cell_type": "markdown",
     "metadata": {},
     "source": [
      "### Uncompensated, different waists and retro factor"
     ]
    },
    {
     "cell_type": "code",
     "collapsed": false,
     "input": [
      "scattlen = np.linspace( 80., 1200., 12)\n",
      "temps00 = [ 7.2, 7.0, 7.0, 7.0, 6.8, 6.8, 6.8, 6.8, 6.8, 6.8, 6.8, 6.8]\n",
      "temps01 = [ 5.2, 4.8, 4.4, 4.0, 3.8, 3.4, 3.4, 3.2, 3.0, 3.0, 3.0, 3.0]\n",
      "temps02 = [ 4.0, 3.6, 3.2, 2.8, 2.6, 2.2, 2.2, 2.0, 1.8, 1.8, 1.8, 1.8]\n",
      "\n",
      "temps = [temps00, temps01, None]\n",
      "IR = 7.0\n",
      "GR = 0.0 \n",
      "Na = 7e4\n",
      "\n",
      "IRw = 50.\n",
      "R = 1.\n",
      "IRwaists = ((IRw,IRw), (IRw,IRw), (IRw,IRw))\n",
      "retroF = (R, R, R ) \n",
      "\n",
      "for Ti in range(len(temps)):\n",
      "    if temps[Ti] is not None:\n",
      "        print temps[Ti]\n",
      "        doccComp = []\n",
      "        for i,a in enumerate(scattlen):\n",
      "            print a, \" \",\n",
      "            latt3d = simpleCubic( allIR=IR, allGR=GR, Natoms=Na, a_s=a, Temperature=temps[Ti][i])\n",
      "            \n",
      "            figCol = latt3d.column( [\"density\",\"doublons\",\"entropy\",\"moment\"] );\n",
      "            fig111 = latt3d.plot3Line(func=latt3d.Bands,  lines='111');\n",
      "        \n",
      "            figCol.savefig(fname(IR,GR,Na,Ti,'COL',a,'.png'), dpi=200)\n",
      "            fig111.savefig(fname(IR,GR,Na,Ti,'111',a,'.png'), dpi=200)\n",
      "            \n",
      "            plt.close(figCol)\n",
      "            plt.close(fig111)\n",
      "            \n",
      "            doccComp.append( latt3d.getNumberD()/latt3d.Number )\n",
      "            \n",
      "        fraction = 1-np.array(doccComp) \n",
      "        np.savetxt(tname(IR,GR,Na,Ti), np.column_stack((scattlen, fraction)) )"
     ],
     "language": "python",
     "metadata": {},
     "outputs": [
      {
       "output_type": "stream",
       "stream": "stdout",
       "text": [
        "[7.2, 7.0, 7.0, 7.0, 6.8, 6.8, 6.8, 6.8, 6.8, 6.8, 6.8, 6.8]\n",
        "80.0   "
       ]
      },
      {
       "output_type": "stream",
       "stream": "stdout",
       "text": [
        "181.818181818   "
       ]
      },
      {
       "output_type": "stream",
       "stream": "stdout",
       "text": [
        "283.636363636   "
       ]
      },
      {
       "output_type": "stream",
       "stream": "stdout",
       "text": [
        "385.454545455   "
       ]
      },
      {
       "output_type": "stream",
       "stream": "stdout",
       "text": [
        "487.272727273   "
       ]
      },
      {
       "output_type": "stream",
       "stream": "stdout",
       "text": [
        "589.090909091   "
       ]
      },
      {
       "output_type": "stream",
       "stream": "stdout",
       "text": [
        "690.909090909   "
       ]
      },
      {
       "output_type": "stream",
       "stream": "stdout",
       "text": [
        "792.727272727   "
       ]
      },
      {
       "output_type": "stream",
       "stream": "stdout",
       "text": [
        "894.545454545   "
       ]
      },
      {
       "output_type": "stream",
       "stream": "stdout",
       "text": [
        "996.363636364   "
       ]
      },
      {
       "output_type": "stream",
       "stream": "stdout",
       "text": [
        "1098.18181818   "
       ]
      },
      {
       "output_type": "stream",
       "stream": "stdout",
       "text": [
        "1200.0   "
       ]
      },
      {
       "output_type": "stream",
       "stream": "stdout",
       "text": [
        "[5.2, 4.8, 4.4, 4.0, 3.8, 3.4, 3.4, 3.2, 3.0, 3.0, 3.0, 3.0]\n",
        "80.0   "
       ]
      },
      {
       "output_type": "stream",
       "stream": "stdout",
       "text": [
        "181.818181818   "
       ]
      },
      {
       "output_type": "stream",
       "stream": "stdout",
       "text": [
        "283.636363636   "
       ]
      },
      {
       "output_type": "stream",
       "stream": "stdout",
       "text": [
        "385.454545455   "
       ]
      },
      {
       "output_type": "stream",
       "stream": "stdout",
       "text": [
        "487.272727273   "
       ]
      },
      {
       "output_type": "stream",
       "stream": "stdout",
       "text": [
        "589.090909091   "
       ]
      },
      {
       "output_type": "stream",
       "stream": "stdout",
       "text": [
        "690.909090909   "
       ]
      },
      {
       "output_type": "stream",
       "stream": "stdout",
       "text": [
        "792.727272727   "
       ]
      },
      {
       "output_type": "stream",
       "stream": "stdout",
       "text": [
        "894.545454545   "
       ]
      },
      {
       "output_type": "stream",
       "stream": "stdout",
       "text": [
        "996.363636364   "
       ]
      },
      {
       "output_type": "stream",
       "stream": "stdout",
       "text": [
        "1098.18181818   "
       ]
      },
      {
       "output_type": "stream",
       "stream": "stdout",
       "text": [
        "1200.0  \n"
       ]
      }
     ],
     "prompt_number": 38
    },
    {
     "cell_type": "code",
     "collapsed": false,
     "input": [
      "IR = 7.0\n",
      "GR = 0.0 \n",
      "Na = 7e4\n",
      "\n",
      "fig = plt.figure(figsize=(6,4))\n",
      "gs = matplotlib.gridspec.GridSpec( 1,1, wspace=0.2)\n",
      "ax0 = fig.add_subplot( gs[0,0])\n",
      "\n",
      "labelstrs = [ '$S/N=2.3$', '$S/N=1.2$', '$S/N=1.0$']\n",
      "\n",
      "for datf in sorted(glob.glob( pname(IR,GR,Na) + '/*.dat' )):\n",
      "    dat = np.loadtxt(datf)\n",
      "    scattlen = dat[:,0]\n",
      "    fraction = dat[:,1] \n",
      "    ax0.plot( scattlen, 1-fraction, lw=4, label=labelstrs[geti(datf)]+'\\n$N=%.1e$'%Na)\n",
      "\n",
      "\n",
      "ax0.set_xlabel(\"Scattering length ($a_{0}$)\",fontsize=14)\n",
      "ax0.set_ylabel(\"$D$\", fontsize=16,rotation=0)\n",
      "ax0.grid()\n",
      "ax0.set_ylim(0., 1.0)\n",
      "ax0.set_xlim(0., 1200.)\n",
      "\n",
      "ax0.legend( bbox_to_anchor=(1.03,1.00), \\\n",
      "            loc='upper left', numpoints=1, \\\n",
      "             prop={'size':12}, handlelength=1.1, handletextpad=0.5 )\n",
      "\n",
      "gs.tight_layout(fig, rect=[0.,0.,0.8,1.0])\n",
      "fig.savefig(pname(IR,GR,Na)+'/Fraction.png',dpi=240)\n",
      "fig.savefig(pname(IR,GR,Na)+'/Fraction.pdf')\n"
     ],
     "language": "python",
     "metadata": {},
     "outputs": [],
     "prompt_number": 39
    },
    {
     "cell_type": "markdown",
     "metadata": {},
     "source": [
      "### Below content is from previous work,  not sure I need it anymore"
     ]
    },
    {
     "cell_type": "code",
     "collapsed": false,
     "input": [
      "scattlen = np.array([ 80., 140., 200., 320., 400., 480., 520., 600., 740., 880., 1000., 1140., 1200 ])\n",
      "number   = np.array([ 3.25e5, 3.25e5, 3.25e5, 3.25e5, 3.25e5, 2.5e5, 2.4e5, 2.3e5, 2.1e5, 1.8e5, 1.6e5, 1.35e5, 1.25e5])\n",
      "doccUnComp_N = []\n",
      "for i,a in enumerate(scattlen):\n",
      "    print a\n",
      "    latt3d = simpleCubic( allGR=0, Natoms=number[i], a_s=a )\n",
      "    figCol = latt3d.column( [\"density\",\"doublons\",\"entropy\"] );\n",
      "    figCol.savefig('Ut_Uncomp/Col_as%04d.png'%a, dpi=200)\n",
      "    fig111 = latt3d.plot3Line(func=latt3d.Bands,  lines='111');\n",
      "    fig111.savefig('Ut_Uncomp/111_as%04d.png'%a, dpi=200)\n",
      "    doccUnComp_N.append( latt3d.getNumberD()/latt3d.Number )"
     ],
     "language": "python",
     "metadata": {},
     "outputs": []
    },
    {
     "cell_type": "code",
     "collapsed": false,
     "input": [
      "scattlen = np.array([ 80., 140., 200., 320., 400., 480., 520., 600., 740., 880., 1000., 1140., 1200 ])\n",
      "number   = np.array([ 3.25e5, 3.25e5, 3.25e5, 3.25e5, 3.25e5, 2.5e5, 2.4e5, 2.3e5, 2.1e5, 1.8e5, 1.6e5, 1.35e5, 1.25e5])\n",
      "doccUnComp_N4 = []\n",
      "for i,a in enumerate(scattlen):\n",
      "    print a\n",
      "    latt3d = simpleCubic( allGR=0, Natoms=number[i]/4., a_s=a )\n",
      "    figCol = latt3d.column( [\"density\",\"doublons\",\"entropy\"] );\n",
      "    figCol.savefig('Ut_Uncomp_N4/Col_as%04d.png'%a, dpi=200);\n",
      "    fig111 = latt3d.plot3Line(func=latt3d.Bands,  lines='111');\n",
      "    fig111.savefig('Ut_Uncomp_N4/111_as%04d.png'%a, dpi=200);\n",
      "    doccUnComp_N4.append( latt3d.getNumberD()/latt3d.Number )"
     ],
     "language": "python",
     "metadata": {},
     "outputs": []
    }
   ],
   "metadata": {}
  }
 ]
}