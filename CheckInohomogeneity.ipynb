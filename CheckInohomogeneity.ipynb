{
 "metadata": {
  "name": "CheckInohomogeneity"
 },
 "nbformat": 3,
 "nbformat_minor": 0,
 "worksheets": [
  {
   "cells": [
    {
     "cell_type": "code",
     "collapsed": false,
     "input": [
      "from CompensatedLattice import *\n",
      "\n",
      "matplotlib.rc('text', usetex=True)\n",
      "#matplotlib.rc('font',**{'family':'serif'})\n",
      "\n",
      "import os\n",
      "\n",
      "basedir = 'Inhomog'\n",
      "\n",
      "def fname(IR,GR,Na,Ti,sub,aS,ext):\n",
      "    fpath = (basedir+'/{0:.2f}_{1:.2f}_{2:.1e}/T{3:.1f}/'.format(IR,GR,Na,Ti) + sub + '_%04da0'%aS).replace('.','p') + ext\n",
      "    dpath = os.path.dirname(fpath)\n",
      "    if not os.path.exists(dpath):\n",
      "        os.makedirs(dpath)\n",
      "    return fpath\n",
      "\n",
      "def tname(IR,GR,Na,Ti):\n",
      "    return os.path.split(os.path.dirname( fname(IR,GR,Na,Ti,'',0.,'')))[0] + '/T%02d_PhaseDiagram.dat'%Ti\n",
      "\n",
      "def pname(IR,GR,Na):\n",
      "    return os.path.split(os.path.dirname( fname(IR,GR,Na,0,'',0.,'')))[0]\n",
      "\n",
      "#print fname(7.0, 3.85, 3.5e5, 2,'COL',80.,'.png')\n",
      "#print tname(7.0, 3.85, 3.5e5, 2)\n",
      "#print pname(7.0, 3.85, 3.5e5)\n",
      "\n",
      "import glob\n",
      "import re\n",
      "def geti(datf):\n",
      "    Ti =  re.search(r'T[0-9]{2}_',datf).group()\n",
      "    return int(re.search(r'[0-9]{2}',Ti).group())"
     ],
     "language": "python",
     "metadata": {},
     "outputs": [],
     "prompt_number": 1
    },
    {
     "cell_type": "code",
     "collapsed": false,
     "input": [
      "IR = 7.0\n",
      "GR = 3.85 \n",
      "Na = 3.5e5\n",
      "aS = 360.\n",
      "Tt = 1.8\n",
      "\n",
      "latt3d = simpleCubic( allIR=IR, allGR=GR, Natoms=Na, a_s=aS, Temperature=Tt)\n",
      "#fig111 = latt3d.plot3Line(func=latt3d.Bands,  lines='111');\n",
      "fig111 = latt3d.CheckInhomog( ) ; \n",
      "fig111.savefig(fname(IR,GR,Na,Tt,'111',aS,'.png'), dpi=200)"
     ],
     "language": "python",
     "metadata": {},
     "outputs": [
      {
       "output_type": "stream",
       "stream": "stdout",
       "text": [
        "shape of V0 =  (3, 320)\n"
       ]
      }
     ],
     "prompt_number": 3
    },
    {
     "cell_type": "code",
     "collapsed": false,
     "input": [
      "\n",
      "\n",
      "\n",
      "\n"
     ],
     "language": "python",
     "metadata": {},
     "outputs": []
    }
   ],
   "metadata": {}
  }
 ]
}