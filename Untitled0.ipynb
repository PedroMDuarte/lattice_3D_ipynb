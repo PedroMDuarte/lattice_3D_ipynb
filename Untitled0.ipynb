{
 "metadata": {
  "name": ""
 },
 "nbformat": 3,
 "nbformat_minor": 0,
 "worksheets": [
  {
   "cells": [
    {
     "cell_type": "code",
     "collapsed": false,
     "input": [
      "import compensated\n",
      "\n",
      "T=1.8\n",
      "test = compensated.simpleCubic( Natoms=3e5, a_s=300., Temperature=T)"
     ],
     "language": "python",
     "metadata": {},
     "outputs": [],
     "prompt_number": 3
    },
    {
     "cell_type": "code",
     "collapsed": false,
     "input": [
      "print test.Number\n",
      "print test.Entropy\n",
      "print test.NumberD\n",
      "print test.Entropy / test.Number\n",
      "print test.EtaEvap"
     ],
     "language": "python",
     "metadata": {},
     "outputs": [
      {
       "output_type": "stream",
       "stream": "stdout",
       "text": [
        "298161.895455\n",
        "1019443.30376\n",
        "5505.54333173\n",
        "3.41909318157\n",
        "6.05463507662\n"
       ]
      }
     ],
     "prompt_number": 4
    },
    {
     "cell_type": "code",
     "collapsed": false,
     "input": [],
     "language": "python",
     "metadata": {},
     "outputs": []
    }
   ],
   "metadata": {}
  }
 ]
}