{
 "metadata": {
  "name": ""
 },
 "nbformat": 3,
 "nbformat_minor": 0,
 "worksheets": [
  {
   "cells": [
    {
     "cell_type": "code",
     "collapsed": false,
     "input": [
      "from compensated import *"
     ],
     "language": "python",
     "metadata": {},
     "outputs": []
    },
    {
     "cell_type": "markdown",
     "metadata": {},
     "source": [
      "### Calculate doublon fraction for various entropies "
     ]
    },
    {
     "cell_type": "code",
     "collapsed": false,
     "input": [
      "scattlen = np.linspace( 80., 1200., 12)\n",
      "temps00 = [ 1.8, 1.7, 1.6, 1.6, 1.6, 1.6, 1.6, 1.6, 1.6, 1.6, 1.6, 1.6]\n",
      "temps01 = [ 2.2, 2.1, 2.0, 2.0, 2.0, 2.0, 2.0, 2.0, 2.0, 2.0, 2.0, 2.0]\n",
      "temps02 = [ 2.6, 2.5, 2.4, 2.4, 2.4, 2.4, 2.4, 2.4, 2.4, 2.4, 2.4, 2.4]\n",
      "temps03 = [ 3.4, 3.3, 3.2, 3.2, 3.2, 3.2, 3.2, 3.2, 3.2, 3.2, 3.2, 3.2]\n",
      "\n",
      "temps = [temps00, temps01, temps02, temps03] \n",
      "Ti = 3\n",
      "\n",
      "\n",
      "doccComp = []\n",
      "for i,a in enumerate(scattlen):\n",
      "    print a, \" \",\n",
      "    latt3d = simpleCubic( allGR=3.85, Natoms=3.5e5, a_s=a, Temperature=temps[Ti][i])\n",
      "    figCol = latt3d.column( [\"density\",\"doublons\",\"entropy\"] )\n",
      "    figCol.savefig('Ut_Comp/T%02d/Col_as%04d.png'%(Ti,a), dpi=200)\n",
      "    fig111 = latt3d.plot3Line(func=latt3d.Bands,  lines='111')\n",
      "    fig111.savefig('Ut_Comp/T%02d/111_as%04d.png'%(Ti,a), dpi=200)\n",
      "    doccComp.append( latt3d.getNumberD()/latt3d.Number )\n",
      "    \n",
      "fraction = 1-np.array(doccComp) \n",
      "np.savetxt('Ut_Comp/T%02d_PhaseDiagram.dat'%Ti, np.column_stack((scattlen, fraction)) )\n",
      "\n",
      "\n",
      "\n",
      "\n",
      "    "
     ],
     "language": "python",
     "metadata": {},
     "outputs": [
      {
       "output_type": "stream",
       "stream": "stdout",
       "text": [
        "80.0   "
       ]
      },
      {
       "output_type": "stream",
       "stream": "stdout",
       "text": [
        "181.818181818   "
       ]
      },
      {
       "output_type": "stream",
       "stream": "stdout",
       "text": [
        "283.636363636   "
       ]
      },
      {
       "output_type": "stream",
       "stream": "stdout",
       "text": [
        "385.454545455   "
       ]
      },
      {
       "output_type": "stream",
       "stream": "stdout",
       "text": [
        "487.272727273   "
       ]
      },
      {
       "output_type": "stream",
       "stream": "stdout",
       "text": [
        "589.090909091   "
       ]
      },
      {
       "output_type": "stream",
       "stream": "stdout",
       "text": [
        "690.909090909   "
       ]
      },
      {
       "output_type": "stream",
       "stream": "stdout",
       "text": [
        "792.727272727   "
       ]
      },
      {
       "output_type": "stream",
       "stream": "stdout",
       "text": [
        "894.545454545   "
       ]
      },
      {
       "output_type": "stream",
       "stream": "stdout",
       "text": [
        "996.363636364   "
       ]
      },
      {
       "output_type": "stream",
       "stream": "stdout",
       "text": [
        "1098.18181818   "
       ]
      },
      {
       "output_type": "stream",
       "stream": "stdout",
       "text": [
        "1200.0  \n"
       ]
      }
     ],
     "prompt_number": 22
    },
    {
     "cell_type": "markdown",
     "metadata": {},
     "source": [
      "### Make figure of doublon fraction for various entropies"
     ]
    },
    {
     "cell_type": "code",
     "collapsed": false,
     "input": [
      "fig = plt.figure(figsize=(6,4))\n",
      "gs = matplotlib.gridspec.GridSpec( 1,1, wspace=0.2)\n",
      "ax0 = fig.add_subplot( gs[0,0])\n",
      "\n",
      "labelstrs = [ '$S/N=1.97$', '$S/N=2.32$', '$S/N=2.59$', '$S/N=2.79$']\n",
      "\n",
      "for i in range(4):\n",
      "    dat = np.loadtxt('Ut_Comp/T%02d_PhaseDiagram.dat'%i)\n",
      "    scattlen = dat[:,0]\n",
      "    fraction = dat[:,1] \n",
      "    ax0.plot( scattlen, fraction, lw=4, label=labelstrs[i])\n",
      "\n",
      "\n",
      "ax0.set_xlabel(\"Scattering length ($a_{0}$)\",fontsize=14)\n",
      "ax0.set_ylabel(\"Fraction in singly occupied sites\", fontsize=12)\n",
      "ax0.grid()\n",
      "ax0.set_ylim(0.5, 1.0)\n",
      "ax0.set_xlim(0., 1200.)\n",
      "    \n",
      "#ax0.set_ylabel(\"$E_{R}$\",fontsize=16,rotation=0)\n",
      "ax0.legend( bbox_to_anchor=(1.03,1.00), \\\n",
      "            loc='upper left', numpoints=1, \\\n",
      "             prop={'size':12}, handlelength=1.1, handletextpad=0.5 )\n",
      "\n",
      "gs.tight_layout(fig, rect=[0.,0.,0.8,1.0])\n",
      "fig.savefig('Ut_Comp/Fraction.png',dpi=240)\n",
      "fig.savefig('Ut_Comp/Fraction.pdf')\n"
     ],
     "language": "python",
     "metadata": {},
     "outputs": [],
     "prompt_number": 24
    },
    {
     "cell_type": "markdown",
     "metadata": {},
     "source": [
      "### Repeat for uncompensated lattice:  calculate doublon fraction for various entropies "
     ]
    },
    {
     "cell_type": "code",
     "collapsed": false,
     "input": [
      "scattlen = np.array([ 80., 140., 200., 320., 400., 480., 520., 600., 740., 880., 1000., 1140., 1200 ])\n",
      "number   = np.array([ 3.25e5, 3.25e5, 3.25e5, 3.25e5, 3.25e5, 2.5e5, 2.4e5, 2.3e5, 2.1e5, 1.8e5, 1.6e5, 1.35e5, 1.25e5])\n",
      "doccUnComp_N = []\n",
      "for i,a in enumerate(scattlen):\n",
      "    print a\n",
      "    latt3d = simpleCubic( allGR=0, Natoms=number[i], a_s=a )\n",
      "    figCol = latt3d.column( [\"density\",\"doublons\",\"entropy\"] );\n",
      "    figCol.savefig('Ut_Uncomp/Col_as%04d.png'%a, dpi=200)\n",
      "    fig111 = latt3d.plot3Line(func=latt3d.Bands,  lines='111');\n",
      "    fig111.savefig('Ut_Uncomp/111_as%04d.png'%a, dpi=200)\n",
      "    doccUnComp_N.append( latt3d.getNumberD()/latt3d.Number )"
     ],
     "language": "python",
     "metadata": {},
     "outputs": [
      {
       "output_type": "stream",
       "stream": "stdout",
       "text": [
        "80.0\n",
        "140.0"
       ]
      },
      {
       "output_type": "stream",
       "stream": "stdout",
       "text": [
        "\n",
        "200.0"
       ]
      },
      {
       "output_type": "stream",
       "stream": "stdout",
       "text": [
        "\n",
        "320.0"
       ]
      },
      {
       "output_type": "stream",
       "stream": "stdout",
       "text": [
        "\n",
        "400.0"
       ]
      },
      {
       "output_type": "stream",
       "stream": "stdout",
       "text": [
        "\n",
        "480.0"
       ]
      },
      {
       "output_type": "stream",
       "stream": "stdout",
       "text": [
        "\n",
        "520.0"
       ]
      },
      {
       "output_type": "stream",
       "stream": "stdout",
       "text": [
        "\n",
        "600.0"
       ]
      },
      {
       "output_type": "stream",
       "stream": "stdout",
       "text": [
        "\n",
        "740.0"
       ]
      },
      {
       "output_type": "stream",
       "stream": "stdout",
       "text": [
        "\n",
        "880.0"
       ]
      },
      {
       "output_type": "stream",
       "stream": "stdout",
       "text": [
        "\n",
        "1000.0"
       ]
      },
      {
       "output_type": "stream",
       "stream": "stdout",
       "text": [
        "\n",
        "1140.0"
       ]
      },
      {
       "output_type": "stream",
       "stream": "stdout",
       "text": [
        "\n",
        "1200.0"
       ]
      },
      {
       "output_type": "stream",
       "stream": "stdout",
       "text": [
        "\n"
       ]
      }
     ],
     "prompt_number": 11
    },
    {
     "cell_type": "code",
     "collapsed": false,
     "input": [
      "scattlen = np.array([ 80., 140., 200., 320., 400., 480., 520., 600., 740., 880., 1000., 1140., 1200 ])\n",
      "number   = np.array([ 3.25e5, 3.25e5, 3.25e5, 3.25e5, 3.25e5, 2.5e5, 2.4e5, 2.3e5, 2.1e5, 1.8e5, 1.6e5, 1.35e5, 1.25e5])\n",
      "doccUnComp_N4 = []\n",
      "for i,a in enumerate(scattlen):\n",
      "    print a\n",
      "    latt3d = simpleCubic( allGR=0, Natoms=number[i]/4., a_s=a )\n",
      "    figCol = latt3d.column( [\"density\",\"doublons\",\"entropy\"] );\n",
      "    figCol.savefig('Ut_Uncomp_N4/Col_as%04d.png'%a, dpi=200);\n",
      "    fig111 = latt3d.plot3Line(func=latt3d.Bands,  lines='111');\n",
      "    fig111.savefig('Ut_Uncomp_N4/111_as%04d.png'%a, dpi=200);\n",
      "    doccUnComp_N4.append( latt3d.getNumberD()/latt3d.Number )"
     ],
     "language": "python",
     "metadata": {},
     "outputs": [
      {
       "output_type": "stream",
       "stream": "stdout",
       "text": [
        "80.0\n",
        "140.0"
       ]
      },
      {
       "output_type": "stream",
       "stream": "stdout",
       "text": [
        "\n",
        "200.0"
       ]
      },
      {
       "output_type": "stream",
       "stream": "stdout",
       "text": [
        "\n",
        "320.0"
       ]
      },
      {
       "output_type": "stream",
       "stream": "stdout",
       "text": [
        "\n",
        "400.0"
       ]
      },
      {
       "output_type": "stream",
       "stream": "stdout",
       "text": [
        "\n",
        "480.0"
       ]
      },
      {
       "output_type": "stream",
       "stream": "stdout",
       "text": [
        "\n",
        "520.0"
       ]
      },
      {
       "output_type": "stream",
       "stream": "stdout",
       "text": [
        "\n",
        "600.0"
       ]
      },
      {
       "output_type": "stream",
       "stream": "stdout",
       "text": [
        "\n",
        "740.0"
       ]
      },
      {
       "output_type": "stream",
       "stream": "stdout",
       "text": [
        "\n",
        "880.0"
       ]
      },
      {
       "output_type": "stream",
       "stream": "stdout",
       "text": [
        "\n",
        "1000.0"
       ]
      },
      {
       "output_type": "stream",
       "stream": "stdout",
       "text": [
        "\n",
        "1140.0"
       ]
      },
      {
       "output_type": "stream",
       "stream": "stdout",
       "text": [
        "\n",
        "1200.0"
       ]
      },
      {
       "output_type": "stream",
       "stream": "stdout",
       "text": [
        "\n"
       ]
      }
     ],
     "prompt_number": 12
    },
    {
     "cell_type": "code",
     "collapsed": false,
     "input": [],
     "language": "python",
     "metadata": {},
     "outputs": []
    }
   ],
   "metadata": {}
  }
 ]
}