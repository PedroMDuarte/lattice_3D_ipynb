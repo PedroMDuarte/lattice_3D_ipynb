{
 "metadata": {
  "name": "OnsiteInteractions"
 },
 "nbformat": 3,
 "nbformat_minor": 0,
 "worksheets": [
  {
   "cells": [
    {
     "cell_type": "markdown",
     "metadata": {},
     "source": [
      "Load up the sympy python package to do symbolic mathematics "
     ]
    },
    {
     "cell_type": "code",
     "collapsed": false,
     "input": [
      "#from IPython.display import display\n",
      "\n",
      "#from sympy.interactive import printing\n",
      "#printing.init_printing()\n",
      "\n",
      "from __future__ import division\n",
      "import sympy as sym\n",
      "from sympy import *\n",
      "\n",
      "import matplotlib\n",
      "matplotlib.rc('font',**{'family':'serif'})"
     ],
     "language": "python",
     "metadata": {},
     "outputs": [],
     "prompt_number": 1
    },
    {
     "cell_type": "markdown",
     "metadata": {},
     "source": [
      "We will define here the quasimomentum so that $q \\in [0,1)\\ $, instead of $q \\in (-1,1]\\ $ which we used in the calculation of the band structure.  If we chose the lattice spacing to be $a=1\\ $, then the quasimomentum can take values from  $0$ to $2\\pi$,  which means that the unit of $q$ we will be using is $2\\pi$\n",
      "\n",
      "The equations for the coefficients is \n",
      "\n",
      "$$ \\left( (q/k + 2m ) ^{2} + \\frac{V_{0}}{2} \\right) c_{qm}^{n} - \n",
      "\\frac{V_{0}}{4} c_{q,m-1}^{n} - \\frac{V_{0}}{4} c_{q,m+1}^{n} = E_{q} c_{qm}^{n} $$\n",
      "\n",
      "Where the minus signs on the $V_{0}/4\\ $ terms indicate that we have chose a sine squared potential so that the Wannier function is centered at the orign.  \n",
      "\n",
      "Since $q\\ $ will be in units of $2\\pi\\ $, and $k=\\pi\\ $,  this equation becomes\n",
      "\n",
      "$$ \\left( 4( q + m ) ^{2} + \\frac{V_{0}}{2} \\right) c_{qm}^{n} - \n",
      "\\frac{V_{0}}{4} c_{q,m-1}^{n} - \\frac{V_{0}}{4} c_{q,m+1}^{n} = E_{q} c_{qm}^{n} $$\n"
     ]
    },
    {
     "cell_type": "code",
     "collapsed": false,
     "input": [
      "def H0_Sine( Npoints, q, v0 ): \n",
      "    def f(i,j):\n",
      "        if i==j:\n",
      "            return 4*(q+(i-Npoints))**2 + v0/2 \n",
      "        elif i-j == 1:\n",
      "            return -v0/4\n",
      "        elif j-i == 1:\n",
      "            return -v0/4 \n",
      "        else:\n",
      "            return 0.\n",
      "    mdim = (2*Npoints+1) \n",
      "    matrix = sym.Matrix(mdim,mdim,f)\n",
      "    return matrix\n"
     ],
     "language": "python",
     "metadata": {},
     "outputs": [],
     "prompt_number": 44
    },
    {
     "cell_type": "markdown",
     "metadata": {},
     "source": [
      "The definition of the nth band Wannier function in terms of the eigenvectors of the above matrix is given by \n",
      "\n",
      "(see for instance http://alps.comp-phys.org/mediawiki/index.php/Documentation:Bosons_in_an_optical_lattice)\n",
      "\n",
      "$$ w^{n} = \\frac{1}{L} \\sum_{m \\in \\mathbb{Z}} \\sum_{q} c_{qm}^{n} e^{ix(mG+q)} $$ \n",
      "\n",
      "Here $G=2\\pi\\ $ , and since the units of $q$ are also $2\\pi\\ $, as was stated above, we can write this as \n",
      "\n",
      "$$ w^{n} = \\frac{1}{L} \\sum_{m \\in \\mathbb{Z}} \\sum_{q} c_{qm}^{n} e^{ix2\\pi(m+q)} $$ \n",
      "\n",
      "The symmetry of the problem can be used to realize that \n",
      "\n",
      "$$ c_{qm}^{n} = c_{q'm'}^{n} $$  \n",
      "\n",
      "if \n",
      "\n",
      "$$q+m = -(q'+m')\\  \\ \\ $$\n",
      "\n",
      "which enables us to write the sum as \n",
      "$$ w^{n} = \\frac{1}{L} \\left( c_{00}^{n} \\cos(2\\pi(m+q)x ) + \\sum_{m>0} \\sum_{q>0} c_{qm}^{n} 2\\cos(2\\pi(m+q)x \\right) $$ \n",
      "\n",
      "\n",
      "\n",
      "where we have to be careful to only sum over |(m+q)| once.   This is the expression that we use to numerically determine the Wannier functions\n",
      "\n"
     ]
    },
    {
     "cell_type": "code",
     "collapsed": false,
     "input": [
      "\n",
      "L = 200. # Lattice size\n",
      "qset = np.arange( 0, L)/L\n",
      "qsetSize = len(qset)\n",
      "\n",
      "num_m = 20  # Number of plane waves \n",
      "mset = np.arange(-num_m, num_m+1)\n",
      "msetSize = len(mset)\n",
      "\n",
      "v0 = 3.\n",
      "\n",
      "# Diagonalize for all values of q\n",
      "cCoefs = np.empty( (qsetSize, msetSize, msetSize) )\n",
      "for qi,q in enumerate(qset):\n",
      "    h0 = np.array( np.array(H0_Sine(num_m, q, v0)))\n",
      "    w,v =  numpy.linalg.eigh(h0)\n",
      "    for j in range(msetSize):\n",
      "        if v[:,j][-1] > 0 :\n",
      "            cCoefs[qi][j] = v[:,j]\n",
      "        else:\n",
      "            cCoefs[qi][j] = -1.*v[:,j]\n",
      "    \n",
      "#Calculate Wannier, norm and U\n",
      "x = linspace( 0, 5, 1000)\n",
      "wan = np.zeros_like( x, dtype=np.float)\n",
      "allterms = []\n",
      "for qi,q in enumerate(qset):\n",
      "    for mj,m in enumerate(mset):\n",
      "        cqm = cCoefs[qi][0][mj]\n",
      "        if q + m == 0:\n",
      "            wan +=  cqm * np.cos( 2*np.pi* (q+m) * x )\n",
      "            allterms.append( (q, m, cCoefs[qi][0][mj] ))\n",
      "        if q + m > 0:\n",
      "            #print \"added \",\n",
      "            wan +=  cqm * 2* np.cos( 2*np.pi* (q+m) * x )\n",
      "            allterms.append( (q, m, cCoefs[qi][0][mj] ))\n",
      "wan = wan / L\n",
      "        "
     ],
     "language": "python",
     "metadata": {},
     "outputs": [],
     "prompt_number": 45
    },
    {
     "cell_type": "code",
     "collapsed": false,
     "input": [
      "xmirror   = np.hstack((-1*x[::-1],x))\n",
      "wanmirror = np.hstack((wan[::-1],wan))\n",
      "plt.plot(xmirror,wanmirror)\n",
      "plt.grid()\n",
      "#plt.ylim(-0.2,0.2)"
     ],
     "language": "python",
     "metadata": {},
     "outputs": [
      {
       "output_type": "display_data",
       "png": "[encoded data removed]"
      }
     ],
     "prompt_number": 43
    },
    {
     "cell_type": "code",
     "collapsed": false,
     "input": [
      "qset"
     ],
     "language": "python",
     "metadata": {},
     "outputs": [
      {
       "output_type": "pyout",
       "prompt_number": 40,
       "text": [
        "    [ 0.     0.005  0.01   0.015  0.02   0.025  0.03   0.035  0.04   0.045   \n",
        "   0.05   0.055  0.06   0.065  0.07   0.075  0.08   0.085  0.09   0.095  0.1 \n",
        "      0.105  0.11   0.115  0.12   0.125  0.13   0.135  0.14   0.145  0.15    \n",
        "  0.155  0.16   0.165  0.17   0.175  0.18   0.185  0.19   0.195  0.2    0.205\n",
        "      0.21   0.215  0.22   0.225  0.23   0.235  0.24   0.245  0.25   0.255   \n",
        "      0.26   0.265  0.27   0.275  0.28   0.285  0.29   0.295  0.3    0.305   \n",
        "      0.31   0.315  0.32   0.325  0.33   0.335  0.34   0.345  0.35   0.355   \n",
        "      0.36   0.365  0.37   0.375  0.38   0.385  0.39   0.395  0.4    0.405   \n",
        "      0.41   0.415  0.42   0.425  0.43   0.435  0.44   0.445  0.45   0.455   \n",
        "      0.46   0.465  0.47   0.475  0.48   0.485  0.49   0.495  0.5    0.505   \n",
        "      0.51   0.515  0.52   0.525  0.53   0.535  0.54   0.545  0.55   0.555   \n",
        "      0.56   0.565  0.57   0.575  0.58   0.585  0.59   0.595  0.6    0.605   \n",
        "      0.61   0.615  0.62   0.625  0.63   0.635  0.64   0.645  0.65   0.655   \n",
        "      0.66   0.665  0.67   0.675  0.68   0.685  0.69   0.695  0.7    0.705   \n",
        "      0.71   0.715  0.72   0.725  0.73   0.735  0.74   0.745  0.75   0.755   \n",
        "      0.76   0.765  0.77   0.775  0.78   0.785  0.79   0.795  0.8    0.805   \n",
        "      0.81   0.815  0.82   0.825  0.83   0.835  0.84   0.845  0.85   0.855   \n",
        "      0.86   0.865  0.87   0.875  0.88   0.885  0.89   0.895  0.9    0.905   \n",
        "      0.91   0.915  0.92   0.925  0.93   0.935  0.94   0.945  0.95   0.955   \n",
        "            0.96   0.965  0.97   0.975  0.98   0.985  0.99   0.995]          "
       ]
      }
     ],
     "prompt_number": 40
    },
    {
     "cell_type": "code",
     "collapsed": false,
     "input": [
      "cCoefs[0]"
     ],
     "language": "python",
     "metadata": {},
     "outputs": [
      {
       "output_type": "pyout",
       "prompt_number": 13,
       "text": [
        "[[  6.95304693e-07   4.02148148e-05   1.49796036e-03   3.18157964e-02\n",
        "    3.11495868e-01   8.96611213e-01   3.11495868e-01   3.18157964e-02\n",
        "            1.49796036e-03   4.02148148e-05   6.95304693e-07]        \n",
        " [ -2.89287510e-06  -1.59111298e-04  -5.47525606e-03  -1.00748032e-01\n",
        "   -6.99871296e-01  -7.09221640e-16   6.99871296e-01   1.00748032e-01\n",
        "            5.47525606e-03   1.59111298e-04   2.89287510e-06]        \n",
        " [  3.08707099e-06   1.67661371e-04   5.65370636e-03   1.00125676e-01\n",
        "    6.26221884e-01  -4.42242034e-01   6.26221884e-01   1.00125676e-01\n",
        "            5.65370636e-03   1.67661371e-04   3.08707099e-06]        \n",
        " [ -4.69013630e-05  -2.24861900e-03  -6.15026264e-02  -6.97168233e-01\n",
        "    1.00840581e-01  -1.49893429e-14  -1.00840581e-01   6.97168233e-01\n",
        "            6.15026264e-02   2.24861900e-03   4.69013630e-05]        \n",
        " [  4.68896674e-05   2.24784461e-03   6.14711985e-02   6.96531497e-01\n",
        "   -1.03947136e-01   2.25877775e-02  -1.03947136e-01   6.96531497e-01\n",
        "            6.14711985e-02   2.24784461e-03   4.68896674e-05]        \n",
        " [ -1.20622570e-03  -4.40832150e-02  -7.03022171e-01   6.16741270e-02\n",
        "   -3.36819484e-03   5.19988278e-14   3.36819484e-03  -6.16741269e-02\n",
        "            7.03022171e-01   4.40832150e-02   1.20622570e-03]        \n",
        " [  1.20622549e-03   4.40832048e-02   7.03021911e-01  -6.16756675e-02\n",
        "    3.38623619e-03  -3.28817419e-04   3.38623620e-03  -6.16756675e-02\n",
        "            7.03021911e-01   4.40832048e-02   1.20622549e-03]        \n",
        " [ -3.42889334e-02  -7.04894216e-01   4.41180246e-02  -1.60936213e-03\n",
        "    4.69206462e-05  -1.48909328e-12  -4.69205917e-05   1.60936027e-03\n",
        "           -4.41179735e-02   7.04893399e-01   3.42888936e-02]        \n",
        " [  3.42888936e-02   7.04893399e-01  -4.41179736e-02   1.60936301e-03\n",
        "   -4.69955730e-05   2.56909233e-06  -4.69956274e-05   1.60936487e-03\n",
        "           -4.41180248e-02   7.04894216e-01   3.42889334e-02]        \n",
        " [ -7.19973473e-01   3.49626151e-02  -9.55284387e-04   1.98891832e-05\n",
        "   -3.62247006e-07   2.43579756e-10   3.48316334e-07  -1.91247971e-05\n",
        "            9.18570662e-04  -3.36189232e-02   6.92303275e-01]        \n",
        " [  6.92303275e-01  -3.36189232e-02   9.18570662e-04  -1.91248019e-05\n",
        "    3.48547287e-07  -1.24322213e-08   3.62469082e-07  -1.98891879e-05\n",
        "            9.55284387e-04  -3.49626151e-02   7.19973473e-01]]       "
       ]
      }
     ],
     "prompt_number": 13
    },
    {
     "cell_type": "markdown",
     "metadata": {},
     "source": [
      "The problem is diagonalized here for a number of quasimomenta and lattice depths.  The results are pickled for easy retrieval later on"
     ]
    },
    {
     "cell_type": "code",
     "collapsed": false,
     "input": [
      "num_qs = 40.  # Number of quasimomentum points, or sites\n",
      "num_m  = 5   # Number of plane waves in expansion of Bloch state\n",
      "qs = np.arange(-num_qs+1, num_qs+1) / num_qs\n",
      "\n",
      "def cCoefsCalc( v0 ):\n",
      "    cCoefs = {}\n",
      "    for q in qs:\n",
      "        q_Sym, v0_Sym = sym.symbols(\"q V_{0}\")\n",
      "        h0 = np.array( np.array( H0(num_m,q_Sym,v0_Sym).subs( [(q_Sym,q), (v0_Sym,v0)] )), np.float )\n",
      "        w,v =  numpy.linalg.eigh(h0)\n",
      "        cCoefs[q] = v \n",
      "    return cCoefs\n",
      "\n",
      "v0 = np.linspace(0., 60. , 60 )\n",
      "cCoefsV0 = {}\n",
      "for v0val in v0:\n",
      "    cCoefsV0[ v0val ] = cCoefsCalc( v0val )\n",
      "import pickle\n",
      "pickle.dump( cCoefsV0, open(\"cCoefsV0.p\", \"wb\") )\n",
      "    "
     ],
     "language": "python",
     "metadata": {},
     "outputs": [],
     "prompt_number": 3
    },
    {
     "cell_type": "markdown",
     "metadata": {},
     "source": [
      "Below the results are retrieved from the pickle file"
     ]
    },
    {
     "cell_type": "code",
     "collapsed": false,
     "input": [
      "import pickle\n",
      "cCoefsV0 = pickle.load( open( \"cCoefsV0.p\", \"rb\" ) )"
     ],
     "language": "python",
     "metadata": {},
     "outputs": [],
     "prompt_number": 55
    },
    {
     "cell_type": "code",
     "collapsed": false,
     "input": [
      "# m are the indices for the reciprocal lattice vectors\n",
      "num_m  = 5   # Number of plane waves in expansion of Bloch state\n",
      "ms = np.linspace(-num_m,num_m,2*num_m+1)\n",
      "\n",
      "def c(m):\n",
      "    return sym.symbols(\"c_{m}\")\n",
      "\n",
      "sumexpr = sym.Sum( c(m)*sym.exp( I*m*x), (m, -num_m, num_m) )\n",
      "\n"
     ],
     "language": "python",
     "metadata": {},
     "outputs": [],
     "prompt_number": 45
    },
    {
     "cell_type": "code",
     "collapsed": false,
     "input": [
      "sumexpr"
     ],
     "language": "python",
     "metadata": {},
     "outputs": [
      {
       "latex": [
        "$$\\sum_{m=-5}^{5} c_{{m}} e^{\\mathbf{\\imath} m x}$$"
       ],
       "output_type": "pyout",
       "png": "[encoded data removed]",
       "prompt_number": 46,
       "text": [
        "  5                \n",
        " ___               \n",
        " \u2572                 \n",
        "  \u2572           \u2148\u22c5m\u22c5x\n",
        "  \u2571    c_{m}\u22c5\u212f     \n",
        " \u2571                 \n",
        " \u203e\u203e\u203e               \n",
        "m = -5             "
       ]
      }
     ],
     "prompt_number": 46
    },
    {
     "cell_type": "code",
     "collapsed": false,
     "input": [
      "sumexpr.subs(x,0.)"
     ],
     "language": "python",
     "metadata": {},
     "outputs": [
      {
       "latex": [
        "$$\\sum_{m=-5}^{5} c_{{m}}$$"
       ],
       "output_type": "pyout",
       "png": "[encoded data removed]",
       "prompt_number": 48,
       "text": [
        "  5         \n",
        " ___        \n",
        " \u2572          \n",
        "  \u2572    c_{m}\n",
        "  \u2571         \n",
        " \u2571          \n",
        " \u203e\u203e\u203e        \n",
        "m = -5      "
       ]
      }
     ],
     "prompt_number": 48
    },
    {
     "cell_type": "code",
     "collapsed": false,
     "input": [
      "sumexpr.subs(x,0.).evalf()"
     ],
     "language": "python",
     "metadata": {},
     "outputs": [
      {
       "latex": [
        "$$\\sum_{m=-5}^{5} c_{{m}}$$"
       ],
       "output_type": "pyout",
       "png": "[encoded data removed]",
       "prompt_number": 49,
       "text": [
        "  5         \n",
        " ___        \n",
        " \u2572          \n",
        "  \u2572    c_{m}\n",
        "  \u2571         \n",
        " \u2571          \n",
        " \u203e\u203e\u203e        \n",
        "m = -5      "
       ]
      }
     ],
     "prompt_number": 49
    },
    {
     "cell_type": "code",
     "collapsed": false,
     "input": [
      "def eigenfun1D( q, v0, x):\n",
      "    num_qs = 100.  # Number of quasimomentum points, or sites\n",
      "    num_m  = 5   # Number of plane waves in expansion of Bloch state\n",
      "    mset = np.linspace(-num_m,num_m,2*num_m+1)\n",
      "    qset = np.arange(-num_qs+1, num_qs+1) / num_qs\n",
      "    v0set = np.linspace(0., 60. , 60 )\n",
      "    if v0 not in v0set:\n",
      "        raise Exception(\"v0 not in calculated set\")\n",
      "    if q not in qset:\n",
      "        raise Exception(\"q not in calculated set\")\n",
      "        \n",
      "    a = 1.0 # We use x in units of the lattice spacing\n",
      "    k = np.pi/a \n",
      "    \n",
      "    \n",
      "    # The sum of plane waves is carried out for each of the bands\n",
      "    num_bands = 3\n",
      "    psi_bands = []\n",
      "    for i in range(num_bands):\n",
      "        coefs = cCoefsV0[v0][q][:,i][:,None]\n",
      "        #if i==0:\n",
      "        #    print coefs\n",
      "        planewaves =  coefs * np.exp( 1j*(2*k)*np.outer(mset,x) ) \n",
      "        psi = planewaves.sum(axis=0)\n",
      "        psi = psi * np.exp(1j*q*k*x)\n",
      "        \n",
      "        # Adjust the wavefunctions so they have matching phases at x0\n",
      "        # where x0 is the position of a lattice site. \n",
      "        #\n",
      "        # This will turn out to be important when defining the Wannier \n",
      "        # wavefunctions. \n",
      "        #\n",
      "        x0 = 0.5 \n",
      "        phase = -1*np.exp( 1j* np.angle( np.sum(coefs * np.exp( 1j*(2*k)*mset*x0 ) * np.exp(1j*q*k*x0))))\n",
      "        \n",
      "        psi = psi / phase\n",
      "        psi_bands.append(psi)\n",
      "    return psi_bands   \n",
      "    "
     ],
     "language": "python",
     "metadata": {},
     "outputs": [],
     "prompt_number": 124
    },
    {
     "cell_type": "code",
     "collapsed": false,
     "input": [
      "v0=v0set[6]\n",
      "x = np.linspace(-2,2,200)\n",
      "%timeit eigenfun1D( 0., v0, x)[0]\n",
      "%timeit eigenfunsH0( 0., v0, x)[0]"
     ],
     "language": "python",
     "metadata": {},
     "outputs": [
      {
       "output_type": "stream",
       "stream": "stdout",
       "text": [
        "100 loops, best of 3: 3.42 ms per loop\n",
        "10 loops, best of 3: 20.3 ms per loop"
       ]
      },
      {
       "output_type": "stream",
       "stream": "stdout",
       "text": [
        "\n"
       ]
      }
     ],
     "prompt_number": 86
    },
    {
     "cell_type": "code",
     "collapsed": false,
     "input": [
      "v0=v0set[6]\n",
      "print v0\n",
      "x = np.linspace(-2,2,200)\n",
      "numeric  = eigenfun1D( 0., v0 , x)[0]\n",
      "plt.plot(x,np.real(numeric))"
     ],
     "language": "python",
     "metadata": {},
     "outputs": [
      {
       "output_type": "stream",
       "stream": "stdout",
       "text": [
        "6.10169491525\n"
       ]
      },
      {
       "output_type": "pyout",
       "prompt_number": 87,
       "text": [
        "[Line2D(_line0)]"
       ]
      },
      {
       "output_type": "display_data",
       "png": "[encoded data removed]"
      }
     ],
     "prompt_number": 87
    },
    {
     "cell_type": "code",
     "collapsed": false,
     "input": [
      "def wannier1D( v0, xj, x):\n",
      "    \n",
      "    num_qs = 20.  # Number of quasimomentum points, or sites\n",
      "    num_m  = 5   # Number of plane waves in expansion of Bloch state\n",
      "    mset = np.linspace(-num_m,num_m,2*num_m+1)\n",
      "    qset = np.arange(-num_qs+1, num_qs+1) / num_qs\n",
      "    v0set = np.linspace(0., 60. , 60 )\n",
      "    if v0 not in v0set:\n",
      "        raise Exception(\"v0 not in calculated set\")\n",
      "        \n",
      "    a = 1.0 # We use x in units of the lattice spacing\n",
      "    k = np.pi/a \n",
      "    \n",
      "    # The sum of plane waves is carried out for each of the bands\n",
      "    num_bands = 3\n",
      "    \n",
      "    w_bands = []\n",
      "    for i in range(num_bands): \n",
      "        wannier = np.zeros_like(x,dtype=np.complex) \n",
      "        for q in qset:\n",
      "            coefs = cCoefsV0[v0][q][:,i][:,None]\n",
      "            \n",
      "            # Adjust the wavefunctions so they have matching phases at x0\n",
      "            x0 = 0.0 \n",
      "            phase = 1*np.exp( 1j* np.angle( np.sum(coefs * np.exp( 1j*(2*k)*mset*x0 ) * np.exp(1j*q*k*x0))))\n",
      "            \n",
      "            wannier += phase * np.sum( coefs * np.exp( 1j*(2*k)*np.outer(mset,x) ) , axis=0 ) * np.exp(1j*q*k*(x-xj)) \n",
      "        wannier = wannier / len(qset) \n",
      "        w_bands.append( wannier ) \n",
      "    return w_bands   "
     ],
     "language": "python",
     "metadata": {},
     "outputs": [],
     "prompt_number": 121
    },
    {
     "cell_type": "code",
     "collapsed": false,
     "input": [
      "v0=v0set[4]\n",
      "print v0\n",
      "x = np.linspace(-5,5,1000)\n",
      "wan = wannier1D( v0, 0.5, x )\n",
      "plt.plot(x-0.5,wan[0])\n",
      "plt.ylim(-0.2,0.2)"
     ],
     "language": "python",
     "metadata": {},
     "outputs": [
      {
       "output_type": "stream",
       "stream": "stdout",
       "text": [
        "4.06779661017\n"
       ]
      },
      {
       "latex": [
        "$$\\begin{pmatrix}-0.2, & 0.2\\end{pmatrix}$$"
       ],
       "output_type": "pyout",
       "prompt_number": 122,
       "text": [
        "(-0.2, 0.2)"
       ]
      },
      {
       "output_type": "display_data",
       "png": "[encoded data removed]"
      }
     ],
     "prompt_number": 122
    },
    {
     "cell_type": "code",
     "collapsed": false,
     "input": [
      "qset"
     ],
     "language": "python",
     "metadata": {},
     "outputs": [
      {
       "output_type": "pyout",
       "prompt_number": 123,
       "text": [
        "    [-0.975 -0.95  -0.925 -0.9   -0.875 -0.85  -0.825 -0.8   -0.775 -0.75    \n",
        " -0.725 -0.7   -0.675 -0.65  -0.625 -0.6   -0.575 -0.55  -0.525 -0.5   -0.475\n",
        "  -0.45  -0.425 -0.4   -0.375 -0.35  -0.325 -0.3   -0.275 -0.25  -0.225 -0.2 \n",
        "     -0.175 -0.15  -0.125 -0.1   -0.075 -0.05  -0.025  0.     0.025  0.05    \n",
        "  0.075  0.1    0.125  0.15   0.175  0.2    0.225  0.25   0.275  0.3    0.325\n",
        "   0.35   0.375  0.4    0.425  0.45   0.475  0.5    0.525  0.55   0.575  0.6 \n",
        "      0.625  0.65   0.675  0.7    0.725  0.75   0.775  0.8    0.825  0.85    \n",
        "                   0.875  0.9    0.925  0.95   0.975  1.   ]                 "
       ]
      }
     ],
     "prompt_number": 123
    },
    {
     "cell_type": "code",
     "collapsed": false,
     "input": [
      "def wannier( x, x0, depth , Nqs=80):\n",
      "    qs = np.arange(-Nqs+1, Nqs+1) / Nqs\n",
      "    wfun = np.zeros_like(x,dtype=np.complex) \n",
      "    for q in qs:\n",
      "        psi = eigenfun1D( q, depth, x)[0]\n",
      "        wfun += np.exp(-1j*q*(x0-0.5)*np.pi)*psi /  len(qs)\n",
      "    return wfun  "
     ],
     "language": "python",
     "metadata": {},
     "outputs": [],
     "prompt_number": 95
    },
    {
     "cell_type": "code",
     "collapsed": false,
     "input": [
      "v0=v0set[12]\n",
      "print v0\n",
      "x = np.linspace(-2,2,200)\n",
      "wan = wannier( v0, 0.5, x )\n",
      "plt.plot(x,wan[0])"
     ],
     "language": "python",
     "metadata": {},
     "outputs": []
    },
    {
     "cell_type": "code",
     "collapsed": false,
     "input": [
      "num_qs = 40.  # Number of quasimomentum points, or sites\n",
      "qset = np.arange(-num_qs+1, num_qs+1) / num_qs\n",
      "x = np.linspace(-2,2,200)\n",
      "k=np.pi\n",
      "q=qset[0]\n",
      "plt.plot(x, np.real(  np.exp(1j*q*k*x) ))"
     ],
     "language": "python",
     "metadata": {},
     "outputs": [
      {
       "output_type": "pyout",
       "prompt_number": 77,
       "text": [
        "[Line2D(_line0)]"
       ]
      },
      {
       "output_type": "display_data",
       "png": "[encoded data removed]"
      }
     ],
     "prompt_number": 77
    },
    {
     "cell_type": "code",
     "collapsed": false,
     "input": [
      "v0=6.10169491525\n",
      "\n",
      "numeric  = eigenfunsH0( 0., v0 , x)[0]\n",
      "plt.plot(x,np.real(numeric))"
     ],
     "language": "python",
     "metadata": {},
     "outputs": [
      {
       "output_type": "pyout",
       "prompt_number": 71,
       "text": [
        "[Line2D(_line0)]"
       ]
      },
      {
       "output_type": "display_data",
       "png": "[encoded data removed]"
      }
     ],
     "prompt_number": 71
    },
    {
     "cell_type": "code",
     "collapsed": false,
     "input": [
      "num_qs = 40.  # Number of quasimomentum points, or sites\n",
      "num_m  = 5   # Number of plane waves in expansion of Bloch state\n",
      "\n",
      "qs = np.arange(-num_qs+1, num_qs+1) / num_qs\n",
      "ms = np.arange( -num_m, num_m+1)\n",
      "\n",
      "print qs\n",
      "print ms"
     ],
     "language": "python",
     "metadata": {},
     "outputs": [
      {
       "output_type": "stream",
       "stream": "stdout",
       "text": [
        "[-0.975 -0.95  -0.925 -0.9   -0.875 -0.85  -0.825 -0.8   -0.775 -0.75\n",
        " -0.725 -0.7   -0.675 -0.65  -0.625 -0.6   -0.575 -0.55  -0.525 -0.5   -0.475\n",
        " -0.45  -0.425 -0.4   -0.375 -0.35  -0.325 -0.3   -0.275 -0.25  -0.225 -0.2\n",
        " -0.175 -0.15  -0.125 -0.1   -0.075 -0.05  -0.025  0.     0.025  0.05\n",
        "  0.075  0.1    0.125  0.15   0.175  0.2    0.225  0.25   0.275  0.3    0.325\n",
        "  0.35   0.375  0.4    0.425  0.45   0.475  0.5    0.525  0.55   0.575  0.6\n",
        "  0.625  0.65   0.675  0.7    0.725  0.75   0.775  0.8    0.825  0.85\n",
        "  0.875  0.9    0.925  0.95   0.975  1.   ]\n",
        "[-5 -4 -3 -2 -1  0  1  2  3  4  5]\n"
       ]
      }
     ],
     "prompt_number": 4
    },
    {
     "cell_type": "code",
     "collapsed": false,
     "input": [
      "from sympy.tensor import IndexedBase, Idx\n",
      "\n",
      "num_qs = 40  # Number of quasimomentum points, or sites\n",
      "num_m  = 5   # Number of plane waves in expansion of Bloch state\n",
      "num_n  = 3   # Number of bands to keep track of \n",
      "\n",
      "\n",
      "q, m, n = symbols('q m n', cls=Idx)\n",
      "cCoefs = IndexedBase('c', shape=( num_qs, 2*num_m+1, num_n))\n",
      "pWaves = IndexedBase('p') \n",
      "\n",
      "\n",
      "cCoefs[q,m,n] *pWaves[m]\n",
      "\n",
      "\n"
     ],
     "language": "python",
     "metadata": {},
     "outputs": [
      {
       "latex": [
        "$$c[q, m, n] p[m]$$"
       ],
       "output_type": "pyout",
       "png": "[encoded data removed]",
       "prompt_number": 13,
       "text": [
        "c[q, m, n]\u22c5p[m]"
       ]
      }
     ],
     "prompt_number": 13
    },
    {
     "cell_type": "code",
     "collapsed": false,
     "input": [
      "pWaves[m]"
     ],
     "language": "python",
     "metadata": {},
     "outputs": [
      {
       "latex": [
        "$$p[m]$$"
       ],
       "output_type": "pyout",
       "png": "[encoded data removed]",
       "prompt_number": 11,
       "text": [
        "p[m]"
       ]
      }
     ],
     "prompt_number": 11
    },
    {
     "cell_type": "code",
     "collapsed": false,
     "input": [
      "\n",
      "exp(I*m*G* x )"
     ],
     "language": "python",
     "metadata": {},
     "outputs": [
      {
       "latex": [
        "$$e^{\\mathbf{\\imath} 2\\pi x m}$$"
       ],
       "output_type": "pyout",
       "png": "[encoded data removed]",
       "prompt_number": 25,
       "text": [
        " \u2148\u22c52\\pi\u22c5x\u22c5m\n",
        "\u212f          "
       ]
      }
     ],
     "prompt_number": 25
    },
    {
     "cell_type": "code",
     "collapsed": false,
     "input": [
      "m."
     ],
     "language": "python",
     "metadata": {},
     "outputs": []
    },
    {
     "cell_type": "code",
     "collapsed": false,
     "input": [
      "N(exp(I*m).subs(m,np.pi))"
     ],
     "language": "python",
     "metadata": {},
     "outputs": [
      {
       "latex": [
        "$$-1.0 + 1.0 \\times 10^{-16} \\mathbf{\\imath}$$"
       ],
       "output_type": "pyout",
       "png": "[encoded data removed]",
       "prompt_number": 22,
       "text": [
        "-1.0 + 1.0e-16\u22c5\u2148"
       ]
      }
     ],
     "prompt_number": 22
    },
    {
     "cell_type": "code",
     "collapsed": false,
     "input": [
      "cCoefs[q,20,n]"
     ],
     "language": "python",
     "metadata": {},
     "outputs": [
      {
       "latex": [
        "$$c[q, 20, n]$$"
       ],
       "output_type": "pyout",
       "png": "[encoded data removed]",
       "prompt_number": 13,
       "text": [
        "c[q, 20, n]"
       ]
      }
     ],
     "prompt_number": 13
    },
    {
     "cell_type": "code",
     "collapsed": false,
     "input": [
      "num_qs = 40.  # Number of quasimomentum points, or sites\n",
      "num_m  = 5   # Number of plane waves in expansion of Bloch state\n",
      "qs = np.arange(-num_qs+1, num_qs+1) / num_qs\n",
      "ms = np.arange( -num_m, num_m+1)\n",
      "\n",
      "def onsite( ni, nj, nk, nm):\n",
      "    total = 0 \n",
      "    for qi in qs:\n",
      "        for qj in qs:\n",
      "            for qk in qs:\n",
      "                for qm in qs:\n",
      "        #            \n",
      "        #            for mi in ms:\n",
      "        #                for mj in ms:\n",
      "        #                    for mk in ms:\n",
      "        #                        for mm in ms:\n",
      "                                    total += 1\n",
      "    return total\n",
      "\n",
      "                        "
     ],
     "language": "python",
     "metadata": {},
     "outputs": [],
     "prompt_number": 13
    },
    {
     "cell_type": "code",
     "collapsed": false,
     "input": [
      "%timeit onsite( 0, 0, 0, 0) "
     ],
     "language": "python",
     "metadata": {},
     "outputs": [
      {
       "output_type": "stream",
       "stream": "stdout",
       "text": [
        "1 loops, best of 3: 4.77 s per loop\n"
       ]
      }
     ],
     "prompt_number": 14
    },
    {
     "cell_type": "code",
     "collapsed": false,
     "input": [],
     "language": "python",
     "metadata": {},
     "outputs": []
    }
   ],
   "metadata": {}
  }
 ]
}